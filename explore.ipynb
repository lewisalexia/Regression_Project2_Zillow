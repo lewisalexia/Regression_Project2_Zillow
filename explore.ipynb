{
 "cells": [
  {
   "cell_type": "markdown",
   "id": "719e2b58-574f-4cac-aeb7-1251aed21124",
   "metadata": {
    "tags": []
   },
   "source": [
    "## <div class=\"alert alert-block alert-info\"> Imports<div>"
   ]
  },
  {
   "cell_type": "code",
   "execution_count": 1,
   "id": "7453c802-7716-43bb-92ed-a3f3d306328e",
   "metadata": {
    "tags": []
   },
   "outputs": [
    {
     "name": "stdout",
     "output_type": "stream",
     "text": [
      "Load in successful, awaiting commands...\n"
     ]
    }
   ],
   "source": [
    "# My Modules\n",
    "import wrangle as wr\n",
    "import explore as ex\n",
    "import stats_conclude as sc\n",
    "import evaluate as ev\n",
    "\n",
    "# Imports\n",
    "import os\n",
    "\n",
    "# Numbers\n",
    "import pandas as pd \n",
    "import numpy as np\n",
    "import scipy.stats as stats\n",
    "\n",
    "# Vizzes\n",
    "import matplotlib.pyplot as plt\n",
    "import seaborn as sns\n",
    "\n",
    "# Splitting\n",
    "from sklearn.model_selection import train_test_split\n",
    "\n",
    "# Engineering\n",
    "from sklearn.feature_selection import SelectKBest, f_regression\n",
    "from sklearn.feature_selection import RFE\n",
    "\n",
    "# Modeling\n",
    "from sklearn.metrics import mean_squared_error, r2_score\n",
    "from sklearn.linear_model import LinearRegression, LassoLars, TweedieRegressor\n",
    "from sklearn.preprocessing import PolynomialFeatures\n",
    "\n",
    "import warnings\n",
    "warnings.filterwarnings(\"ignore\")"
   ]
  },
  {
   "cell_type": "markdown",
   "id": "1618c3e4-2c92-4af0-bd86-5ca5b80ae93c",
   "metadata": {
    "tags": []
   },
   "source": [
    "## <div class=\"alert alert-block alert-info\"> Wrangle <div>"
   ]
  },
  {
   "cell_type": "code",
   "execution_count": 2,
   "id": "a1fa310c-7250-4257-b6fb-3d36ffacc847",
   "metadata": {},
   "outputs": [
    {
     "name": "stdout",
     "output_type": "stream",
     "text": [
      "CSV file found and loaded\n"
     ]
    }
   ],
   "source": [
    "# getting/creating the csv\n",
    "df = wr.get_zillow()"
   ]
  },
  {
   "cell_type": "code",
   "execution_count": 3,
   "id": "b42d2e2a-964a-4726-8ee4-43b81072bcd1",
   "metadata": {},
   "outputs": [
    {
     "data": {
      "text/html": [
       "<div>\n",
       "<style scoped>\n",
       "    .dataframe tbody tr th:only-of-type {\n",
       "        vertical-align: middle;\n",
       "    }\n",
       "\n",
       "    .dataframe tbody tr th {\n",
       "        vertical-align: top;\n",
       "    }\n",
       "\n",
       "    .dataframe thead th {\n",
       "        text-align: right;\n",
       "    }\n",
       "</style>\n",
       "<table border=\"1\" class=\"dataframe\">\n",
       "  <thead>\n",
       "    <tr style=\"text-align: right;\">\n",
       "      <th></th>\n",
       "      <th>bedroomcnt</th>\n",
       "      <th>bathroomcnt</th>\n",
       "      <th>calculatedfinishedsquarefeet</th>\n",
       "      <th>taxvaluedollarcnt</th>\n",
       "      <th>fips</th>\n",
       "      <th>transactiondate</th>\n",
       "      <th>parcelid</th>\n",
       "    </tr>\n",
       "  </thead>\n",
       "  <tbody>\n",
       "    <tr>\n",
       "      <th>0</th>\n",
       "      <td>4.0</td>\n",
       "      <td>3.5</td>\n",
       "      <td>3100.0</td>\n",
       "      <td>1023282.0</td>\n",
       "      <td>6059.0</td>\n",
       "      <td>2017-01-01</td>\n",
       "      <td>14297519</td>\n",
       "    </tr>\n",
       "    <tr>\n",
       "      <th>1</th>\n",
       "      <td>2.0</td>\n",
       "      <td>1.0</td>\n",
       "      <td>1465.0</td>\n",
       "      <td>464000.0</td>\n",
       "      <td>6111.0</td>\n",
       "      <td>2017-01-01</td>\n",
       "      <td>17052889</td>\n",
       "    </tr>\n",
       "    <tr>\n",
       "      <th>2</th>\n",
       "      <td>3.0</td>\n",
       "      <td>2.0</td>\n",
       "      <td>1243.0</td>\n",
       "      <td>564778.0</td>\n",
       "      <td>6059.0</td>\n",
       "      <td>2017-01-01</td>\n",
       "      <td>14186244</td>\n",
       "    </tr>\n",
       "    <tr>\n",
       "      <th>3</th>\n",
       "      <td>4.0</td>\n",
       "      <td>3.0</td>\n",
       "      <td>2376.0</td>\n",
       "      <td>145143.0</td>\n",
       "      <td>6037.0</td>\n",
       "      <td>2017-01-01</td>\n",
       "      <td>12177905</td>\n",
       "    </tr>\n",
       "    <tr>\n",
       "      <th>4</th>\n",
       "      <td>4.0</td>\n",
       "      <td>3.0</td>\n",
       "      <td>2962.0</td>\n",
       "      <td>773303.0</td>\n",
       "      <td>6037.0</td>\n",
       "      <td>2017-01-01</td>\n",
       "      <td>12095076</td>\n",
       "    </tr>\n",
       "  </tbody>\n",
       "</table>\n",
       "</div>"
      ],
      "text/plain": [
       "   bedroomcnt  bathroomcnt  calculatedfinishedsquarefeet  taxvaluedollarcnt  \\\n",
       "0         4.0          3.5                        3100.0          1023282.0   \n",
       "1         2.0          1.0                        1465.0           464000.0   \n",
       "2         3.0          2.0                        1243.0           564778.0   \n",
       "3         4.0          3.0                        2376.0           145143.0   \n",
       "4         4.0          3.0                        2962.0           773303.0   \n",
       "\n",
       "     fips transactiondate  parcelid  \n",
       "0  6059.0      2017-01-01  14297519  \n",
       "1  6111.0      2017-01-01  17052889  \n",
       "2  6059.0      2017-01-01  14186244  \n",
       "3  6037.0      2017-01-01  12177905  \n",
       "4  6037.0      2017-01-01  12095076  "
      ]
     },
     "execution_count": 3,
     "metadata": {},
     "output_type": "execute_result"
    }
   ],
   "source": [
    "# looking at the data\n",
    "df.head()"
   ]
  },
  {
   "cell_type": "code",
   "execution_count": 4,
   "id": "ebe56aba-2e2d-4338-ab23-cf727e1b6150",
   "metadata": {},
   "outputs": [
    {
     "data": {
      "text/plain": [
       "(52442, 7)"
      ]
     },
     "execution_count": 4,
     "metadata": {},
     "output_type": "execute_result"
    }
   ],
   "source": [
    "# checking original frame shape\n",
    "df.shape"
   ]
  },
  {
   "cell_type": "code",
   "execution_count": 5,
   "id": "86238f33-458c-4b6e-aea1-1b10f29d7b44",
   "metadata": {},
   "outputs": [
    {
     "name": "stdout",
     "output_type": "stream",
     "text": [
      "<class 'pandas.core.frame.DataFrame'>\n",
      "Int64Index: 52442 entries, 0 to 52441\n",
      "Data columns (total 7 columns):\n",
      " #   Column                        Non-Null Count  Dtype  \n",
      "---  ------                        --------------  -----  \n",
      " 0   bedroomcnt                    52442 non-null  float64\n",
      " 1   bathroomcnt                   52442 non-null  float64\n",
      " 2   calculatedfinishedsquarefeet  52360 non-null  float64\n",
      " 3   taxvaluedollarcnt             52441 non-null  float64\n",
      " 4   fips                          52442 non-null  float64\n",
      " 5   transactiondate               52442 non-null  object \n",
      " 6   parcelid                      52442 non-null  int64  \n",
      "dtypes: float64(5), int64(1), object(1)\n",
      "memory usage: 3.2+ MB\n"
     ]
    }
   ],
   "source": [
    "# looking at the data\n",
    "df.info()"
   ]
  },
  {
   "cell_type": "code",
   "execution_count": 6,
   "id": "2e696149-38e1-4bd4-86bd-b52075358a1f",
   "metadata": {},
   "outputs": [
    {
     "data": {
      "text/html": [
       "<div>\n",
       "<style scoped>\n",
       "    .dataframe tbody tr th:only-of-type {\n",
       "        vertical-align: middle;\n",
       "    }\n",
       "\n",
       "    .dataframe tbody tr th {\n",
       "        vertical-align: top;\n",
       "    }\n",
       "\n",
       "    .dataframe thead th {\n",
       "        text-align: right;\n",
       "    }\n",
       "</style>\n",
       "<table border=\"1\" class=\"dataframe\">\n",
       "  <thead>\n",
       "    <tr style=\"text-align: right;\">\n",
       "      <th></th>\n",
       "      <th>bedroomcnt</th>\n",
       "      <th>bathroomcnt</th>\n",
       "      <th>calculatedfinishedsquarefeet</th>\n",
       "      <th>taxvaluedollarcnt</th>\n",
       "      <th>fips</th>\n",
       "      <th>parcelid</th>\n",
       "    </tr>\n",
       "  </thead>\n",
       "  <tbody>\n",
       "    <tr>\n",
       "      <th>count</th>\n",
       "      <td>52442.000000</td>\n",
       "      <td>52442.000000</td>\n",
       "      <td>52360.000000</td>\n",
       "      <td>5.244100e+04</td>\n",
       "      <td>52442.000000</td>\n",
       "      <td>5.244200e+04</td>\n",
       "    </tr>\n",
       "    <tr>\n",
       "      <th>mean</th>\n",
       "      <td>3.300675</td>\n",
       "      <td>2.299397</td>\n",
       "      <td>1922.874083</td>\n",
       "      <td>5.296830e+05</td>\n",
       "      <td>6049.131917</td>\n",
       "      <td>1.299912e+07</td>\n",
       "    </tr>\n",
       "    <tr>\n",
       "      <th>std</th>\n",
       "      <td>0.949086</td>\n",
       "      <td>1.022764</td>\n",
       "      <td>1004.363491</td>\n",
       "      <td>7.518883e+05</td>\n",
       "      <td>21.028933</td>\n",
       "      <td>3.411412e+06</td>\n",
       "    </tr>\n",
       "    <tr>\n",
       "      <th>min</th>\n",
       "      <td>0.000000</td>\n",
       "      <td>0.000000</td>\n",
       "      <td>128.000000</td>\n",
       "      <td>1.000000e+03</td>\n",
       "      <td>6037.000000</td>\n",
       "      <td>1.071186e+07</td>\n",
       "    </tr>\n",
       "    <tr>\n",
       "      <th>25%</th>\n",
       "      <td>3.000000</td>\n",
       "      <td>2.000000</td>\n",
       "      <td>1268.000000</td>\n",
       "      <td>1.937500e+05</td>\n",
       "      <td>6037.000000</td>\n",
       "      <td>1.151030e+07</td>\n",
       "    </tr>\n",
       "    <tr>\n",
       "      <th>50%</th>\n",
       "      <td>3.000000</td>\n",
       "      <td>2.000000</td>\n",
       "      <td>1659.000000</td>\n",
       "      <td>3.736120e+05</td>\n",
       "      <td>6037.000000</td>\n",
       "      <td>1.257766e+07</td>\n",
       "    </tr>\n",
       "    <tr>\n",
       "      <th>75%</th>\n",
       "      <td>4.000000</td>\n",
       "      <td>3.000000</td>\n",
       "      <td>2306.000000</td>\n",
       "      <td>6.193010e+05</td>\n",
       "      <td>6059.000000</td>\n",
       "      <td>1.412951e+07</td>\n",
       "    </tr>\n",
       "    <tr>\n",
       "      <th>max</th>\n",
       "      <td>14.000000</td>\n",
       "      <td>18.000000</td>\n",
       "      <td>21929.000000</td>\n",
       "      <td>4.906124e+07</td>\n",
       "      <td>6111.000000</td>\n",
       "      <td>1.676878e+08</td>\n",
       "    </tr>\n",
       "  </tbody>\n",
       "</table>\n",
       "</div>"
      ],
      "text/plain": [
       "         bedroomcnt   bathroomcnt  calculatedfinishedsquarefeet  \\\n",
       "count  52442.000000  52442.000000                  52360.000000   \n",
       "mean       3.300675      2.299397                   1922.874083   \n",
       "std        0.949086      1.022764                   1004.363491   \n",
       "min        0.000000      0.000000                    128.000000   \n",
       "25%        3.000000      2.000000                   1268.000000   \n",
       "50%        3.000000      2.000000                   1659.000000   \n",
       "75%        4.000000      3.000000                   2306.000000   \n",
       "max       14.000000     18.000000                  21929.000000   \n",
       "\n",
       "       taxvaluedollarcnt          fips      parcelid  \n",
       "count       5.244100e+04  52442.000000  5.244200e+04  \n",
       "mean        5.296830e+05   6049.131917  1.299912e+07  \n",
       "std         7.518883e+05     21.028933  3.411412e+06  \n",
       "min         1.000000e+03   6037.000000  1.071186e+07  \n",
       "25%         1.937500e+05   6037.000000  1.151030e+07  \n",
       "50%         3.736120e+05   6037.000000  1.257766e+07  \n",
       "75%         6.193010e+05   6059.000000  1.412951e+07  \n",
       "max         4.906124e+07   6111.000000  1.676878e+08  "
      ]
     },
     "execution_count": 6,
     "metadata": {},
     "output_type": "execute_result"
    }
   ],
   "source": [
    "# looking at numericals\n",
    "df.describe()"
   ]
  },
  {
   "cell_type": "code",
   "execution_count": 7,
   "id": "90aafdc3-0980-47aa-a1f1-14d01292aa32",
   "metadata": {},
   "outputs": [
    {
     "data": {
      "text/plain": [
       "bedroomcnt                         14\n",
       "bathroomcnt                        22\n",
       "calculatedfinishedsquarefeet     4723\n",
       "taxvaluedollarcnt               38942\n",
       "fips                                3\n",
       "transactiondate                   258\n",
       "parcelid                        52320\n",
       "dtype: int64"
      ]
     },
     "execution_count": 7,
     "metadata": {},
     "output_type": "execute_result"
    }
   ],
   "source": [
    "# identifying potential duplicates\n",
    "df.nunique()"
   ]
  },
  {
   "cell_type": "code",
   "execution_count": 8,
   "id": "38d8cb67-3d0d-41c5-99ea-827420f8abd4",
   "metadata": {},
   "outputs": [
    {
     "data": {
      "text/plain": [
       "122"
      ]
     },
     "execution_count": 8,
     "metadata": {},
     "output_type": "execute_result"
    }
   ],
   "source": [
    "# 52320 unique parcelids?? Supposed to have 52,442...\n",
    "52442-52320"
   ]
  },
  {
   "cell_type": "markdown",
   "id": "52fb9deb-b4d5-4e87-8994-1e4f5d803d05",
   "metadata": {},
   "source": [
    "#### So we have duplicated parcel ids... that checks out. You can sell a home more than one time a year. I will drop all duplicates except for the last. In theory, that is my most recent assessment for value."
   ]
  },
  {
   "cell_type": "code",
   "execution_count": 9,
   "id": "3834ae32-f7a4-4520-bc3d-759760f5d945",
   "metadata": {
    "scrolled": true,
    "tags": []
   },
   "outputs": [
    {
     "data": {
      "text/html": [
       "<div>\n",
       "<style scoped>\n",
       "    .dataframe tbody tr th:only-of-type {\n",
       "        vertical-align: middle;\n",
       "    }\n",
       "\n",
       "    .dataframe tbody tr th {\n",
       "        vertical-align: top;\n",
       "    }\n",
       "\n",
       "    .dataframe thead th {\n",
       "        text-align: right;\n",
       "    }\n",
       "</style>\n",
       "<table border=\"1\" class=\"dataframe\">\n",
       "  <thead>\n",
       "    <tr style=\"text-align: right;\">\n",
       "      <th></th>\n",
       "      <th>bedroomcnt</th>\n",
       "      <th>bathroomcnt</th>\n",
       "      <th>calculatedfinishedsquarefeet</th>\n",
       "      <th>taxvaluedollarcnt</th>\n",
       "      <th>fips</th>\n",
       "      <th>transactiondate</th>\n",
       "      <th>parcelid</th>\n",
       "    </tr>\n",
       "  </thead>\n",
       "  <tbody>\n",
       "    <tr>\n",
       "      <th>9385</th>\n",
       "      <td>4.0</td>\n",
       "      <td>2.0</td>\n",
       "      <td>1570.0</td>\n",
       "      <td>373282.0</td>\n",
       "      <td>6037.0</td>\n",
       "      <td>2017-07-28</td>\n",
       "      <td>10722858</td>\n",
       "    </tr>\n",
       "    <tr>\n",
       "      <th>9307</th>\n",
       "      <td>4.0</td>\n",
       "      <td>2.0</td>\n",
       "      <td>2115.0</td>\n",
       "      <td>115306.0</td>\n",
       "      <td>6037.0</td>\n",
       "      <td>2017-07-25</td>\n",
       "      <td>10732347</td>\n",
       "    </tr>\n",
       "    <tr>\n",
       "      <th>1941</th>\n",
       "      <td>4.0</td>\n",
       "      <td>3.0</td>\n",
       "      <td>1804.0</td>\n",
       "      <td>174045.0</td>\n",
       "      <td>6037.0</td>\n",
       "      <td>2017-03-31</td>\n",
       "      <td>10739478</td>\n",
       "    </tr>\n",
       "    <tr>\n",
       "      <th>12824</th>\n",
       "      <td>3.0</td>\n",
       "      <td>3.0</td>\n",
       "      <td>2057.0</td>\n",
       "      <td>639607.0</td>\n",
       "      <td>6037.0</td>\n",
       "      <td>2017-08-28</td>\n",
       "      <td>10779619</td>\n",
       "    </tr>\n",
       "    <tr>\n",
       "      <th>14328</th>\n",
       "      <td>4.0</td>\n",
       "      <td>4.0</td>\n",
       "      <td>2806.0</td>\n",
       "      <td>708607.0</td>\n",
       "      <td>6037.0</td>\n",
       "      <td>2017-08-30</td>\n",
       "      <td>10811539</td>\n",
       "    </tr>\n",
       "    <tr>\n",
       "      <th>...</th>\n",
       "      <td>...</td>\n",
       "      <td>...</td>\n",
       "      <td>...</td>\n",
       "      <td>...</td>\n",
       "      <td>...</td>\n",
       "      <td>...</td>\n",
       "      <td>...</td>\n",
       "    </tr>\n",
       "    <tr>\n",
       "      <th>10191</th>\n",
       "      <td>5.0</td>\n",
       "      <td>4.5</td>\n",
       "      <td>3672.0</td>\n",
       "      <td>1123000.0</td>\n",
       "      <td>6111.0</td>\n",
       "      <td>2017-04-14</td>\n",
       "      <td>17193966</td>\n",
       "    </tr>\n",
       "    <tr>\n",
       "      <th>22772</th>\n",
       "      <td>4.0</td>\n",
       "      <td>3.0</td>\n",
       "      <td>2717.0</td>\n",
       "      <td>733000.0</td>\n",
       "      <td>6111.0</td>\n",
       "      <td>2017-08-30</td>\n",
       "      <td>17225336</td>\n",
       "    </tr>\n",
       "    <tr>\n",
       "      <th>26169</th>\n",
       "      <td>4.0</td>\n",
       "      <td>3.0</td>\n",
       "      <td>1816.0</td>\n",
       "      <td>350701.0</td>\n",
       "      <td>6111.0</td>\n",
       "      <td>2017-06-15</td>\n",
       "      <td>17280166</td>\n",
       "    </tr>\n",
       "    <tr>\n",
       "      <th>43478</th>\n",
       "      <td>3.0</td>\n",
       "      <td>2.0</td>\n",
       "      <td>1713.0</td>\n",
       "      <td>498684.0</td>\n",
       "      <td>6111.0</td>\n",
       "      <td>2017-08-25</td>\n",
       "      <td>17282392</td>\n",
       "    </tr>\n",
       "    <tr>\n",
       "      <th>23063</th>\n",
       "      <td>4.0</td>\n",
       "      <td>4.0</td>\n",
       "      <td>2459.0</td>\n",
       "      <td>479000.0</td>\n",
       "      <td>6111.0</td>\n",
       "      <td>2017-05-26</td>\n",
       "      <td>162960529</td>\n",
       "    </tr>\n",
       "  </tbody>\n",
       "</table>\n",
       "<p>122 rows × 7 columns</p>\n",
       "</div>"
      ],
      "text/plain": [
       "       bedroomcnt  bathroomcnt  calculatedfinishedsquarefeet  \\\n",
       "9385          4.0          2.0                        1570.0   \n",
       "9307          4.0          2.0                        2115.0   \n",
       "1941          4.0          3.0                        1804.0   \n",
       "12824         3.0          3.0                        2057.0   \n",
       "14328         4.0          4.0                        2806.0   \n",
       "...           ...          ...                           ...   \n",
       "10191         5.0          4.5                        3672.0   \n",
       "22772         4.0          3.0                        2717.0   \n",
       "26169         4.0          3.0                        1816.0   \n",
       "43478         3.0          2.0                        1713.0   \n",
       "23063         4.0          4.0                        2459.0   \n",
       "\n",
       "       taxvaluedollarcnt    fips transactiondate   parcelid  \n",
       "9385            373282.0  6037.0      2017-07-28   10722858  \n",
       "9307            115306.0  6037.0      2017-07-25   10732347  \n",
       "1941            174045.0  6037.0      2017-03-31   10739478  \n",
       "12824           639607.0  6037.0      2017-08-28   10779619  \n",
       "14328           708607.0  6037.0      2017-08-30   10811539  \n",
       "...                  ...     ...             ...        ...  \n",
       "10191          1123000.0  6111.0      2017-04-14   17193966  \n",
       "22772           733000.0  6111.0      2017-08-30   17225336  \n",
       "26169           350701.0  6111.0      2017-06-15   17280166  \n",
       "43478           498684.0  6111.0      2017-08-25   17282392  \n",
       "23063           479000.0  6111.0      2017-05-26  162960529  \n",
       "\n",
       "[122 rows x 7 columns]"
      ]
     },
     "execution_count": 9,
     "metadata": {},
     "output_type": "execute_result"
    }
   ],
   "source": [
    "df[df.parcelid.duplicated()].sort_values(by='parcelid')\n",
    "# I am going to drop these duplicates, keeping last.. \n",
    "# only 122 of them."
   ]
  },
  {
   "cell_type": "code",
   "execution_count": 10,
   "id": "9ac947ad-064f-469b-bbbd-fde98aeb3850",
   "metadata": {},
   "outputs": [],
   "source": [
    "df.drop_duplicates(subset=['parcelid'], keep='last', inplace=True)"
   ]
  },
  {
   "cell_type": "code",
   "execution_count": 11,
   "id": "b1c69bcb-d6f2-4daf-b6cc-016cc4d1d754",
   "metadata": {},
   "outputs": [
    {
     "data": {
      "text/plain": [
       "0"
      ]
     },
     "execution_count": 11,
     "metadata": {},
     "output_type": "execute_result"
    }
   ],
   "source": [
    "# checking to confirm drop of duplicates\n",
    "df.parcelid.duplicated().sum()"
   ]
  },
  {
   "cell_type": "code",
   "execution_count": 12,
   "id": "43130e74-e3ee-430f-b94f-03b82b90f3e9",
   "metadata": {},
   "outputs": [
    {
     "data": {
      "text/plain": [
       "(52320, 7)"
      ]
     },
     "execution_count": 12,
     "metadata": {},
     "output_type": "execute_result"
    }
   ],
   "source": [
    "# additional check\n",
    "df.shape"
   ]
  },
  {
   "cell_type": "code",
   "execution_count": 13,
   "id": "b4f9d64a-8bc2-4dac-88d0-4ac5d1ab47b9",
   "metadata": {},
   "outputs": [
    {
     "data": {
      "text/plain": [
       "3.0     23303\n",
       "4.0     15210\n",
       "2.0      8317\n",
       "5.0      3967\n",
       "6.0       634\n",
       "1.0       611\n",
       "0.0       135\n",
       "7.0       106\n",
       "8.0        24\n",
       "9.0         8\n",
       "10.0        2\n",
       "14.0        1\n",
       "11.0        1\n",
       "12.0        1\n",
       "Name: bedroomcnt, dtype: int64"
      ]
     },
     "execution_count": 13,
     "metadata": {},
     "output_type": "execute_result"
    }
   ],
   "source": [
    "# check bedroom value counts\n",
    "df.bedroomcnt.value_counts()"
   ]
  },
  {
   "cell_type": "code",
   "execution_count": 14,
   "id": "8600f62d-6b2f-4ac0-ad30-f8ed8f776119",
   "metadata": {},
   "outputs": [
    {
     "data": {
      "text/plain": [
       "bedroomcnt                       0\n",
       "bathroomcnt                      0\n",
       "calculatedfinishedsquarefeet    81\n",
       "taxvaluedollarcnt                1\n",
       "fips                             0\n",
       "transactiondate                  0\n",
       "parcelid                         0\n",
       "dtype: int64"
      ]
     },
     "execution_count": 14,
     "metadata": {},
     "output_type": "execute_result"
    }
   ],
   "source": [
    "# nulls\n",
    "df.isnull().sum()"
   ]
  },
  {
   "cell_type": "code",
   "execution_count": 15,
   "id": "244c623d-513f-411f-bb93-1623725c9784",
   "metadata": {},
   "outputs": [
    {
     "data": {
      "text/html": [
       "<div>\n",
       "<style scoped>\n",
       "    .dataframe tbody tr th:only-of-type {\n",
       "        vertical-align: middle;\n",
       "    }\n",
       "\n",
       "    .dataframe tbody tr th {\n",
       "        vertical-align: top;\n",
       "    }\n",
       "\n",
       "    .dataframe thead th {\n",
       "        text-align: right;\n",
       "    }\n",
       "</style>\n",
       "<table border=\"1\" class=\"dataframe\">\n",
       "  <thead>\n",
       "    <tr style=\"text-align: right;\">\n",
       "      <th></th>\n",
       "      <th>bedroomcnt</th>\n",
       "      <th>bathroomcnt</th>\n",
       "      <th>calculatedfinishedsquarefeet</th>\n",
       "      <th>taxvaluedollarcnt</th>\n",
       "      <th>fips</th>\n",
       "      <th>transactiondate</th>\n",
       "      <th>parcelid</th>\n",
       "    </tr>\n",
       "  </thead>\n",
       "  <tbody>\n",
       "    <tr>\n",
       "      <th>0</th>\n",
       "      <td>4.0</td>\n",
       "      <td>3.5</td>\n",
       "      <td>3100.0</td>\n",
       "      <td>1023282.0</td>\n",
       "      <td>6059.0</td>\n",
       "      <td>2017-01-01</td>\n",
       "      <td>14297519</td>\n",
       "    </tr>\n",
       "    <tr>\n",
       "      <th>1</th>\n",
       "      <td>2.0</td>\n",
       "      <td>1.0</td>\n",
       "      <td>1465.0</td>\n",
       "      <td>464000.0</td>\n",
       "      <td>6111.0</td>\n",
       "      <td>2017-01-01</td>\n",
       "      <td>17052889</td>\n",
       "    </tr>\n",
       "    <tr>\n",
       "      <th>2</th>\n",
       "      <td>3.0</td>\n",
       "      <td>2.0</td>\n",
       "      <td>1243.0</td>\n",
       "      <td>564778.0</td>\n",
       "      <td>6059.0</td>\n",
       "      <td>2017-01-01</td>\n",
       "      <td>14186244</td>\n",
       "    </tr>\n",
       "    <tr>\n",
       "      <th>3</th>\n",
       "      <td>4.0</td>\n",
       "      <td>3.0</td>\n",
       "      <td>2376.0</td>\n",
       "      <td>145143.0</td>\n",
       "      <td>6037.0</td>\n",
       "      <td>2017-01-01</td>\n",
       "      <td>12177905</td>\n",
       "    </tr>\n",
       "    <tr>\n",
       "      <th>4</th>\n",
       "      <td>4.0</td>\n",
       "      <td>3.0</td>\n",
       "      <td>2962.0</td>\n",
       "      <td>773303.0</td>\n",
       "      <td>6037.0</td>\n",
       "      <td>2017-01-01</td>\n",
       "      <td>12095076</td>\n",
       "    </tr>\n",
       "    <tr>\n",
       "      <th>...</th>\n",
       "      <td>...</td>\n",
       "      <td>...</td>\n",
       "      <td>...</td>\n",
       "      <td>...</td>\n",
       "      <td>...</td>\n",
       "      <td>...</td>\n",
       "      <td>...</td>\n",
       "    </tr>\n",
       "    <tr>\n",
       "      <th>52437</th>\n",
       "      <td>2.0</td>\n",
       "      <td>2.0</td>\n",
       "      <td>1286.0</td>\n",
       "      <td>354621.0</td>\n",
       "      <td>6037.0</td>\n",
       "      <td>2017-09-20</td>\n",
       "      <td>11000655</td>\n",
       "    </tr>\n",
       "    <tr>\n",
       "      <th>52438</th>\n",
       "      <td>4.0</td>\n",
       "      <td>2.0</td>\n",
       "      <td>1612.0</td>\n",
       "      <td>67205.0</td>\n",
       "      <td>6111.0</td>\n",
       "      <td>2017-09-21</td>\n",
       "      <td>17239384</td>\n",
       "    </tr>\n",
       "    <tr>\n",
       "      <th>52439</th>\n",
       "      <td>3.0</td>\n",
       "      <td>1.0</td>\n",
       "      <td>1032.0</td>\n",
       "      <td>49546.0</td>\n",
       "      <td>6037.0</td>\n",
       "      <td>2017-09-21</td>\n",
       "      <td>12773139</td>\n",
       "    </tr>\n",
       "    <tr>\n",
       "      <th>52440</th>\n",
       "      <td>3.0</td>\n",
       "      <td>2.0</td>\n",
       "      <td>1762.0</td>\n",
       "      <td>522000.0</td>\n",
       "      <td>6037.0</td>\n",
       "      <td>2017-09-25</td>\n",
       "      <td>12826780</td>\n",
       "    </tr>\n",
       "    <tr>\n",
       "      <th>52441</th>\n",
       "      <td>3.0</td>\n",
       "      <td>2.0</td>\n",
       "      <td>1050.0</td>\n",
       "      <td>259334.0</td>\n",
       "      <td>6037.0</td>\n",
       "      <td>2018-05-25</td>\n",
       "      <td>13083743</td>\n",
       "    </tr>\n",
       "  </tbody>\n",
       "</table>\n",
       "<p>52320 rows × 7 columns</p>\n",
       "</div>"
      ],
      "text/plain": [
       "       bedroomcnt  bathroomcnt  calculatedfinishedsquarefeet  \\\n",
       "0             4.0          3.5                        3100.0   \n",
       "1             2.0          1.0                        1465.0   \n",
       "2             3.0          2.0                        1243.0   \n",
       "3             4.0          3.0                        2376.0   \n",
       "4             4.0          3.0                        2962.0   \n",
       "...           ...          ...                           ...   \n",
       "52437         2.0          2.0                        1286.0   \n",
       "52438         4.0          2.0                        1612.0   \n",
       "52439         3.0          1.0                        1032.0   \n",
       "52440         3.0          2.0                        1762.0   \n",
       "52441         3.0          2.0                        1050.0   \n",
       "\n",
       "       taxvaluedollarcnt    fips transactiondate  parcelid  \n",
       "0              1023282.0  6059.0      2017-01-01  14297519  \n",
       "1               464000.0  6111.0      2017-01-01  17052889  \n",
       "2               564778.0  6059.0      2017-01-01  14186244  \n",
       "3               145143.0  6037.0      2017-01-01  12177905  \n",
       "4               773303.0  6037.0      2017-01-01  12095076  \n",
       "...                  ...     ...             ...       ...  \n",
       "52437           354621.0  6037.0      2017-09-20  11000655  \n",
       "52438            67205.0  6111.0      2017-09-21  17239384  \n",
       "52439            49546.0  6037.0      2017-09-21  12773139  \n",
       "52440           522000.0  6037.0      2017-09-25  12826780  \n",
       "52441           259334.0  6037.0      2018-05-25  13083743  \n",
       "\n",
       "[52320 rows x 7 columns]"
      ]
     },
     "execution_count": 15,
     "metadata": {},
     "output_type": "execute_result"
    }
   ],
   "source": [
    "# checking dates to ensure only 2017 was grabbed\n",
    "df [df.transactiondate > '2017'] #52441 2018"
   ]
  },
  {
   "cell_type": "code",
   "execution_count": 16,
   "id": "3703ba85-33e8-4d43-a9c5-0a74bf68745d",
   "metadata": {},
   "outputs": [],
   "source": [
    "# dropping 2018 row\n",
    "df = df.drop(axis = 0, index = 52441) #loc[[52441]]"
   ]
  },
  {
   "cell_type": "code",
   "execution_count": 17,
   "id": "13db4774-09b1-4a4e-a6b6-290f076f75c4",
   "metadata": {},
   "outputs": [
    {
     "name": "stdout",
     "output_type": "stream",
     "text": [
      "Returning Zillow's Single Family Residential Homes from 2017\n",
      "--------------------------------------------\n",
      "Renamed columns for ease of use\n",
      "NaN's removed: Percent Original Data Remaining: 100.0\n",
      "Bed datatype changed from float to integer\n",
      "Changed FIPS code to actual county name\n",
      "--------------------------------------------\n",
      "County is a categorical column.\n",
      "Date is a categorical column.\n",
      "Bed <= 5.5 and > 1.5\n",
      "Bath <= 4.5 and > 0.5\n",
      "Sqft <= 3642.5 and > -161.5\n",
      "Assessed worth <= 1136358.0 and > -387310.0\n",
      "Outliers removed: Percent Original Data Remaining: 88.0\n",
      "DataFrame is clean and ready for exploration :)\n"
     ]
    },
    {
     "data": {
      "text/html": [
       "<div>\n",
       "<style scoped>\n",
       "    .dataframe tbody tr th:only-of-type {\n",
       "        vertical-align: middle;\n",
       "    }\n",
       "\n",
       "    .dataframe tbody tr th {\n",
       "        vertical-align: top;\n",
       "    }\n",
       "\n",
       "    .dataframe thead th {\n",
       "        text-align: right;\n",
       "    }\n",
       "</style>\n",
       "<table border=\"1\" class=\"dataframe\">\n",
       "  <thead>\n",
       "    <tr style=\"text-align: right;\">\n",
       "      <th></th>\n",
       "      <th>bed</th>\n",
       "      <th>bath</th>\n",
       "      <th>sqft</th>\n",
       "      <th>assessed_worth</th>\n",
       "      <th>county</th>\n",
       "      <th>date</th>\n",
       "    </tr>\n",
       "  </thead>\n",
       "  <tbody>\n",
       "    <tr>\n",
       "      <th>0</th>\n",
       "      <td>4</td>\n",
       "      <td>3.5</td>\n",
       "      <td>3100.0</td>\n",
       "      <td>1023282.0</td>\n",
       "      <td>Orange</td>\n",
       "      <td>2017-01-01</td>\n",
       "    </tr>\n",
       "    <tr>\n",
       "      <th>1</th>\n",
       "      <td>2</td>\n",
       "      <td>1.0</td>\n",
       "      <td>1465.0</td>\n",
       "      <td>464000.0</td>\n",
       "      <td>Ventura</td>\n",
       "      <td>2017-01-01</td>\n",
       "    </tr>\n",
       "    <tr>\n",
       "      <th>2</th>\n",
       "      <td>3</td>\n",
       "      <td>2.0</td>\n",
       "      <td>1243.0</td>\n",
       "      <td>564778.0</td>\n",
       "      <td>Orange</td>\n",
       "      <td>2017-01-01</td>\n",
       "    </tr>\n",
       "    <tr>\n",
       "      <th>3</th>\n",
       "      <td>4</td>\n",
       "      <td>3.0</td>\n",
       "      <td>2376.0</td>\n",
       "      <td>145143.0</td>\n",
       "      <td>LA</td>\n",
       "      <td>2017-01-01</td>\n",
       "    </tr>\n",
       "    <tr>\n",
       "      <th>4</th>\n",
       "      <td>4</td>\n",
       "      <td>3.0</td>\n",
       "      <td>2962.0</td>\n",
       "      <td>773303.0</td>\n",
       "      <td>LA</td>\n",
       "      <td>2017-01-01</td>\n",
       "    </tr>\n",
       "  </tbody>\n",
       "</table>\n",
       "</div>"
      ],
      "text/plain": [
       "   bed  bath    sqft  assessed_worth   county        date\n",
       "0    4   3.5  3100.0       1023282.0   Orange  2017-01-01\n",
       "1    2   1.0  1465.0        464000.0  Ventura  2017-01-01\n",
       "2    3   2.0  1243.0        564778.0   Orange  2017-01-01\n",
       "3    4   3.0  2376.0        145143.0       LA  2017-01-01\n",
       "4    4   3.0  2962.0        773303.0       LA  2017-01-01"
      ]
     },
     "execution_count": 17,
     "metadata": {},
     "output_type": "execute_result"
    }
   ],
   "source": [
    "# cleaning the data\n",
    "df_clean = wr.wrangle_zillow(df)\n",
    "df_clean.head()"
   ]
  },
  {
   "cell_type": "markdown",
   "id": "a926e518-4b52-4bdf-9377-55cb24a75067",
   "metadata": {
    "tags": []
   },
   "source": [
    "## <div class=\"alert alert-block alert-info\"> Split <div>"
   ]
  },
  {
   "cell_type": "code",
   "execution_count": 18,
   "id": "f24447fd-3ff3-4285-bf78-c44237cecfc4",
   "metadata": {},
   "outputs": [
    {
     "name": "stdout",
     "output_type": "stream",
     "text": [
      "Prepared DF: (45798, 6)\n",
      "Train: (27478, 6)\n",
      "Validate: (9160, 6)\n",
      "Test: (9160, 6)\n"
     ]
    }
   ],
   "source": [
    "train, validate, test = wr.split_zillow(df_clean)"
   ]
  },
  {
   "cell_type": "code",
   "execution_count": 19,
   "id": "91ecdb72-ab8f-4293-9174-ee27fbd268a2",
   "metadata": {},
   "outputs": [
    {
     "data": {
      "text/html": [
       "<div>\n",
       "<style scoped>\n",
       "    .dataframe tbody tr th:only-of-type {\n",
       "        vertical-align: middle;\n",
       "    }\n",
       "\n",
       "    .dataframe tbody tr th {\n",
       "        vertical-align: top;\n",
       "    }\n",
       "\n",
       "    .dataframe thead th {\n",
       "        text-align: right;\n",
       "    }\n",
       "</style>\n",
       "<table border=\"1\" class=\"dataframe\">\n",
       "  <thead>\n",
       "    <tr style=\"text-align: right;\">\n",
       "      <th></th>\n",
       "      <th>bed</th>\n",
       "      <th>bath</th>\n",
       "      <th>sqft</th>\n",
       "      <th>assessed_worth</th>\n",
       "      <th>county</th>\n",
       "      <th>date</th>\n",
       "    </tr>\n",
       "  </thead>\n",
       "  <tbody>\n",
       "    <tr>\n",
       "      <th>27950</th>\n",
       "      <td>4</td>\n",
       "      <td>4.0</td>\n",
       "      <td>3359.0</td>\n",
       "      <td>272530.0</td>\n",
       "      <td>Orange</td>\n",
       "      <td>2017-05-31</td>\n",
       "    </tr>\n",
       "    <tr>\n",
       "      <th>26677</th>\n",
       "      <td>3</td>\n",
       "      <td>2.0</td>\n",
       "      <td>1096.0</td>\n",
       "      <td>370299.0</td>\n",
       "      <td>LA</td>\n",
       "      <td>2017-05-25</td>\n",
       "    </tr>\n",
       "    <tr>\n",
       "      <th>41434</th>\n",
       "      <td>4</td>\n",
       "      <td>2.0</td>\n",
       "      <td>1506.0</td>\n",
       "      <td>520000.0</td>\n",
       "      <td>LA</td>\n",
       "      <td>2017-07-27</td>\n",
       "    </tr>\n",
       "    <tr>\n",
       "      <th>9551</th>\n",
       "      <td>4</td>\n",
       "      <td>2.5</td>\n",
       "      <td>1943.0</td>\n",
       "      <td>461740.0</td>\n",
       "      <td>Ventura</td>\n",
       "      <td>2017-03-03</td>\n",
       "    </tr>\n",
       "    <tr>\n",
       "      <th>8729</th>\n",
       "      <td>4</td>\n",
       "      <td>3.0</td>\n",
       "      <td>2341.0</td>\n",
       "      <td>284770.0</td>\n",
       "      <td>LA</td>\n",
       "      <td>2017-02-28</td>\n",
       "    </tr>\n",
       "  </tbody>\n",
       "</table>\n",
       "</div>"
      ],
      "text/plain": [
       "       bed  bath    sqft  assessed_worth   county        date\n",
       "27950    4   4.0  3359.0        272530.0   Orange  2017-05-31\n",
       "26677    3   2.0  1096.0        370299.0       LA  2017-05-25\n",
       "41434    4   2.0  1506.0        520000.0       LA  2017-07-27\n",
       "9551     4   2.5  1943.0        461740.0  Ventura  2017-03-03\n",
       "8729     4   3.0  2341.0        284770.0       LA  2017-02-28"
      ]
     },
     "execution_count": 19,
     "metadata": {},
     "output_type": "execute_result"
    }
   ],
   "source": [
    "train.head()"
   ]
  },
  {
   "cell_type": "markdown",
   "id": "e784ea7d-33fb-49a6-bd3b-bae792e64dbb",
   "metadata": {
    "tags": []
   },
   "source": [
    "## <div class=\"alert alert-block alert-info\"> Explore <div> \n",
    " \n",
    "Dataframe = Train\n",
    "    \n",
    "---\n",
    "    \n",
    "**Target = Assessed Worth**\n",
    "    \n",
    "---\n",
    "    \n",
    "**Goal:** To predict assessed worth of single family residential properties using data from 2017.\n",
    "    \n",
    "---\n",
    "    \n",
    "**Questions:**\n",
    "    \n",
    "1. What is more important for property value, bathrooms or bedrooms?\n",
    "2. Does the size of the bathrooms affect value?\n",
    "3. Does having A/C affect property value?\n",
    "   * Unable to answer this question as during exploration the AC column had over 38,000 nulls\n",
    "       \n",
    "    \n",
    "What kind of linear regression will we use?\n",
    "    \n",
    "* Multivariate and simple linear regression"
   ]
  },
  {
   "cell_type": "code",
   "execution_count": 20,
   "id": "4b16cf02-d616-409c-a992-361d21c97cb9",
   "metadata": {},
   "outputs": [
    {
     "data": {
      "image/png": "[encoded data removed]",
      "text/plain": [
       "<Figure size 1200x600 with 6 Axes>"
      ]
     },
     "metadata": {},
     "output_type": "display_data"
    }
   ],
   "source": [
    "# visualize univariates and distributions\n",
    "ex.hist_zillow(df_clean)"
   ]
  },
  {
   "cell_type": "code",
   "execution_count": 21,
   "id": "b1f052b6-a68f-4d5f-9a8a-e43c74493bdb",
   "metadata": {},
   "outputs": [
    {
     "data": {
      "image/png": "[encoded data removed]",
      "text/plain": [
       "<Figure size 1000x1000 with 14 Axes>"
      ]
     },
     "metadata": {},
     "output_type": "display_data"
    }
   ],
   "source": [
    "ex.plot_variable_pairs(df_clean)"
   ]
  },
  {
   "cell_type": "code",
   "execution_count": 22,
   "id": "100f646e-eef3-40bd-983a-9fce98210564",
   "metadata": {},
   "outputs": [
    {
     "name": "stdout",
     "output_type": "stream",
     "text": [
      "bed\n"
     ]
    },
    {
     "data": {
      "image/png": "[encoded data removed]",
      "text/plain": [
       "<Figure size 640x480 with 1 Axes>"
      ]
     },
     "metadata": {},
     "output_type": "display_data"
    },
    {
     "name": "stdout",
     "output_type": "stream",
     "text": [
      "2     8050\n",
      "3    22108\n",
      "4    13190\n",
      "5     2450\n",
      "Name: bed, dtype: int64\n",
      "\n",
      "bath\n"
     ]
    },
    {
     "data": {
      "image/png": "[encoded data removed]",
      "text/plain": [
       "<Figure size 640x480 with 1 Axes>"
      ]
     },
     "metadata": {},
     "output_type": "display_data"
    },
    {
     "name": "stdout",
     "output_type": "stream",
     "text": [
      "1.0     8879\n",
      "1.5      830\n",
      "2.0    21125\n",
      "2.5     3787\n",
      "3.0     9440\n",
      "3.5      510\n",
      "4.0     1103\n",
      "4.5      124\n",
      "Name: bath, dtype: int64\n",
      "\n",
      "sqft\n"
     ]
    },
    {
     "data": {
      "image/png": "[encoded data removed]",
      "text/plain": [
       "<Figure size 640x480 with 1 Axes>"
      ]
     },
     "metadata": {},
     "output_type": "display_data"
    },
    {
     "name": "stdout",
     "output_type": "stream",
     "text": [
      "152.0     1\n",
      "326.0     1\n",
      "468.0     1\n",
      "480.0     4\n",
      "484.0     1\n",
      "         ..\n",
      "3638.0    3\n",
      "3639.0    3\n",
      "3640.0    2\n",
      "3641.0    1\n",
      "3642.0    2\n",
      "Name: sqft, Length: 2980, dtype: int64\n",
      "\n"
     ]
    }
   ],
   "source": [
    "ex.visual_explore_univariate(df_clean)"
   ]
  },
  {
   "cell_type": "code",
   "execution_count": 23,
   "id": "a4afe14a-4fa1-4c04-a50e-8ad5737d1992",
   "metadata": {},
   "outputs": [
    {
     "name": "stdout",
     "output_type": "stream",
     "text": [
      "Categorical Columns\n",
      "**COUNTY**\n",
      "LA         29691\n",
      "Orange     12159\n",
      "Ventura     3948\n",
      "Name: county, dtype: int64\n",
      "LA         65.0\n",
      "Orange     27.0\n",
      "Ventura     9.0\n",
      "Name: county, dtype: float64 2\n",
      "\n",
      "HYPOTHESIZE\n",
      "H_0: county does not affect assessed_worth\n",
      "H_a: county affects assessed_worth\n",
      "\n",
      "ANALYZE and SUMMARIZE\n",
      "chi^2 = 76146.7020\n",
      "p-value = 9.593752748267999e-121 < 0.05\n",
      "----\n",
      "We reject the null hypothesis.\n"
     ]
    },
    {
     "data": {
      "image/png": "[encoded data removed]",
      "text/plain": [
       "<Figure size 640x480 with 1 Axes>"
      ]
     },
     "metadata": {},
     "output_type": "display_data"
    },
    {
     "name": "stdout",
     "output_type": "stream",
     "text": [
      "Numerical Columns\n"
     ]
    },
    {
     "data": {
      "image/png": "[encoded data removed]",
      "text/plain": [
       "<Figure size 640x480 with 2 Axes>"
      ]
     },
     "metadata": {},
     "output_type": "display_data"
    }
   ],
   "source": [
    "ex.plot_categorical_and_continuous_vars(df_clean.drop(columns=['date']))"
   ]
  },
  {
   "cell_type": "code",
   "execution_count": 24,
   "id": "ce2d3675-37d8-4aa8-aa38-e05533c37dfd",
   "metadata": {},
   "outputs": [
    {
     "data": {
      "image/png": "[encoded data removed]",
      "text/plain": [
       "<Figure size 640x480 with 1 Axes>"
      ]
     },
     "metadata": {},
     "output_type": "display_data"
    },
    {
     "name": "stdout",
     "output_type": "stream",
     "text": [
      "\n"
     ]
    },
    {
     "data": {
      "image/png": "[encoded data removed]",
      "text/plain": [
       "<Figure size 640x480 with 1 Axes>"
      ]
     },
     "metadata": {},
     "output_type": "display_data"
    },
    {
     "name": "stdout",
     "output_type": "stream",
     "text": [
      "\n"
     ]
    }
   ],
   "source": [
    "ex.plot_bed_bath(train, 'bed', 'bath')"
   ]
  },
  {
   "cell_type": "markdown",
   "id": "28bd4a11-696d-4e69-82fb-bc5ca5ceeed9",
   "metadata": {},
   "source": [
    "<div class=\"alert alert-block alert-info\">\n",
    "    \n",
    "## Takeaways:"
   ]
  },
  {
   "cell_type": "code",
   "execution_count": 25,
   "id": "98b2497e-79f4-4586-93b3-3a37de9c312a",
   "metadata": {
    "tags": []
   },
   "outputs": [],
   "source": [
    "# Relationships:\n",
    "\n",
    "# there are no 1 bed, 1 bath homes\n",
    "# there are 5,010 2 bed, 1 bath homes with avg sqft of 998 \n",
    "# there are 3,649 3 bed, 1 bath homes with avq sqft of 1,167\n",
    "# there are 213 4 bed, 1 bath homes with avg sqft of 1,582 \n",
    "# there are 31 5 bed, 1 bath homes with avq sqft of 1,995 \n",
    "\n",
    "# there are no 1 bed, 1.5 bath homes\n",
    "# there are 227 2 bed, 1.5 bath homes with avg sqft of 1,189\n",
    "# there are 502 3 bed, 1.5 bath homes with avg sqft of 1,262\n",
    "# there are 98 4 bed, 1.5 bath homes with avg sqft of 1,395\n",
    "# there are 5 5 bed, 1.5 bath homes with avg sqft of 2,068\n",
    "\n",
    "\n",
    "# there are no 1 bed, 2 bath homes\n",
    "# there are 2,430 2 bed, 2 bath homes with avg sqft of 1,428 \n",
    "# there are 13,053 3 bed, 2 bath homes with avq sqft of 1,505 \n",
    "# there are 5,445 4 bed, 2 bath homes with avg sqft of 1,686 \n",
    "# there are 327 5 bed, 2 bath homes with acg sqft of 1,944 \n",
    "\n",
    "# there are no 1 bed, 2.5 bath homes\n",
    "# there are 186 2 bed, 2.5 bath homes with avg sqft of 1,618\n",
    "# there are 1,831 3 bed, 2.5 bath homes with avg sqft of 1,927\n",
    "# there are 1,613 4 bed, 2.5 bath homes with avg sqft of 2,256\n",
    "# there are 183 5 bed, 2.5 bath homes with avg sqft of 2,394\n",
    "\n",
    "\n",
    "# there are no 1 bed, 3 bath homes\n",
    "# there are 240 2 bed, 3 bath homes with avg sqft of 1,989\n",
    "# there are 2,913 3 bed, 3 bath homes with avg sqft of 2,181 \n",
    "# there are 5,006 4 bed, 3 bath homes with acg sqft of 2,397\n",
    "# there are 1,337 5 bed, 3 bath homes with avg sqft of 2,583\n",
    "\n",
    "# there are no 1 bed, 3.5 bath homes\n",
    "# there are 11 2 bed, 3.5 bath homes with avg sqft of 2,645\n",
    "# there are 114 3 bed, 3.5 bath homes with avg sqft of 2,499\n",
    "# there are 271 4 bed, 3.5 bath homes with avg sqft of 2,895\n",
    "# there are 99 5 bed, 3.5 bath homes with avg sqft of 2,948\n",
    "\n",
    "\n",
    "# there are no 1 bed, 4 bath homes\n",
    "# there are 5 2 bed, 4 bath homes with avg sqft of 2,722\n",
    "# there are 185 3 bed, 4 bath homes with avg sqft of 2,712\n",
    "# there are 527 4 bed, 4 bath homes with avg sqft of 2,821\n",
    "# there are 345 5 bed, 4 bath homes with avg sqft of 2,953\n",
    "\n",
    "# there are no 1 or 2 bed, 4.5 bath homes\n",
    "# there are 9 3 bed, 4.5 bath homes with avg sqft of 3,193\n",
    "# there are 39 4 bed, 4.5 bath homes with avg sqft of 3,122\n",
    "# there are 48 5 bed, 4.5 bath homes with avg sqft of 3,144\n",
    "\n",
    "# there are no combinations of bedrooms and 5 and 5.5 bath homes"
   ]
  },
  {
   "cell_type": "markdown",
   "id": "93096cf3-06ca-45d1-989b-65bdba149d56",
   "metadata": {
    "tags": []
   },
   "source": [
    "## <div class=\"alert alert-block alert-info\"> Encode and Scale <div>"
   ]
  },
  {
   "cell_type": "code",
   "execution_count": 26,
   "id": "6f513a58-1d80-4ead-b8fe-6571ddbae99b",
   "metadata": {},
   "outputs": [
    {
     "name": "stdout",
     "output_type": "stream",
     "text": [
      "Encoded County column and renamed encoded columns for readability\n",
      "DataFrame is encoded and ready for modeling. :)\n"
     ]
    }
   ],
   "source": [
    "# encode\n",
    "df_encoded = ex.encode_zillow(df_clean)"
   ]
  },
  {
   "cell_type": "code",
   "execution_count": 27,
   "id": "ad20bccb-dda3-45d5-b356-7ed829daedfa",
   "metadata": {},
   "outputs": [
    {
     "data": {
      "text/html": [
       "<div>\n",
       "<style scoped>\n",
       "    .dataframe tbody tr th:only-of-type {\n",
       "        vertical-align: middle;\n",
       "    }\n",
       "\n",
       "    .dataframe tbody tr th {\n",
       "        vertical-align: top;\n",
       "    }\n",
       "\n",
       "    .dataframe thead th {\n",
       "        text-align: right;\n",
       "    }\n",
       "</style>\n",
       "<table border=\"1\" class=\"dataframe\">\n",
       "  <thead>\n",
       "    <tr style=\"text-align: right;\">\n",
       "      <th></th>\n",
       "      <th>bed</th>\n",
       "      <th>bath</th>\n",
       "      <th>sqft</th>\n",
       "      <th>assessed_worth</th>\n",
       "      <th>county</th>\n",
       "      <th>date</th>\n",
       "    </tr>\n",
       "  </thead>\n",
       "  <tbody>\n",
       "    <tr>\n",
       "      <th>0</th>\n",
       "      <td>4</td>\n",
       "      <td>3.5</td>\n",
       "      <td>3100.0</td>\n",
       "      <td>1023282.0</td>\n",
       "      <td>Orange</td>\n",
       "      <td>2017-01-01</td>\n",
       "    </tr>\n",
       "    <tr>\n",
       "      <th>1</th>\n",
       "      <td>2</td>\n",
       "      <td>1.0</td>\n",
       "      <td>1465.0</td>\n",
       "      <td>464000.0</td>\n",
       "      <td>Ventura</td>\n",
       "      <td>2017-01-01</td>\n",
       "    </tr>\n",
       "    <tr>\n",
       "      <th>2</th>\n",
       "      <td>3</td>\n",
       "      <td>2.0</td>\n",
       "      <td>1243.0</td>\n",
       "      <td>564778.0</td>\n",
       "      <td>Orange</td>\n",
       "      <td>2017-01-01</td>\n",
       "    </tr>\n",
       "    <tr>\n",
       "      <th>3</th>\n",
       "      <td>4</td>\n",
       "      <td>3.0</td>\n",
       "      <td>2376.0</td>\n",
       "      <td>145143.0</td>\n",
       "      <td>LA</td>\n",
       "      <td>2017-01-01</td>\n",
       "    </tr>\n",
       "    <tr>\n",
       "      <th>4</th>\n",
       "      <td>4</td>\n",
       "      <td>3.0</td>\n",
       "      <td>2962.0</td>\n",
       "      <td>773303.0</td>\n",
       "      <td>LA</td>\n",
       "      <td>2017-01-01</td>\n",
       "    </tr>\n",
       "    <tr>\n",
       "      <th>...</th>\n",
       "      <td>...</td>\n",
       "      <td>...</td>\n",
       "      <td>...</td>\n",
       "      <td>...</td>\n",
       "      <td>...</td>\n",
       "      <td>...</td>\n",
       "    </tr>\n",
       "    <tr>\n",
       "      <th>52436</th>\n",
       "      <td>4</td>\n",
       "      <td>2.0</td>\n",
       "      <td>1633.0</td>\n",
       "      <td>346534.0</td>\n",
       "      <td>LA</td>\n",
       "      <td>2017-09-19</td>\n",
       "    </tr>\n",
       "    <tr>\n",
       "      <th>52437</th>\n",
       "      <td>2</td>\n",
       "      <td>2.0</td>\n",
       "      <td>1286.0</td>\n",
       "      <td>354621.0</td>\n",
       "      <td>LA</td>\n",
       "      <td>2017-09-20</td>\n",
       "    </tr>\n",
       "    <tr>\n",
       "      <th>52438</th>\n",
       "      <td>4</td>\n",
       "      <td>2.0</td>\n",
       "      <td>1612.0</td>\n",
       "      <td>67205.0</td>\n",
       "      <td>Ventura</td>\n",
       "      <td>2017-09-21</td>\n",
       "    </tr>\n",
       "    <tr>\n",
       "      <th>52439</th>\n",
       "      <td>3</td>\n",
       "      <td>1.0</td>\n",
       "      <td>1032.0</td>\n",
       "      <td>49546.0</td>\n",
       "      <td>LA</td>\n",
       "      <td>2017-09-21</td>\n",
       "    </tr>\n",
       "    <tr>\n",
       "      <th>52440</th>\n",
       "      <td>3</td>\n",
       "      <td>2.0</td>\n",
       "      <td>1762.0</td>\n",
       "      <td>522000.0</td>\n",
       "      <td>LA</td>\n",
       "      <td>2017-09-25</td>\n",
       "    </tr>\n",
       "  </tbody>\n",
       "</table>\n",
       "<p>45798 rows × 6 columns</p>\n",
       "</div>"
      ],
      "text/plain": [
       "       bed  bath    sqft  assessed_worth   county        date\n",
       "0        4   3.5  3100.0       1023282.0   Orange  2017-01-01\n",
       "1        2   1.0  1465.0        464000.0  Ventura  2017-01-01\n",
       "2        3   2.0  1243.0        564778.0   Orange  2017-01-01\n",
       "3        4   3.0  2376.0        145143.0       LA  2017-01-01\n",
       "4        4   3.0  2962.0        773303.0       LA  2017-01-01\n",
       "...    ...   ...     ...             ...      ...         ...\n",
       "52436    4   2.0  1633.0        346534.0       LA  2017-09-19\n",
       "52437    2   2.0  1286.0        354621.0       LA  2017-09-20\n",
       "52438    4   2.0  1612.0         67205.0  Ventura  2017-09-21\n",
       "52439    3   1.0  1032.0         49546.0       LA  2017-09-21\n",
       "52440    3   2.0  1762.0        522000.0       LA  2017-09-25\n",
       "\n",
       "[45798 rows x 6 columns]"
      ]
     },
     "execution_count": 27,
     "metadata": {},
     "output_type": "execute_result"
    }
   ],
   "source": [
    "df_clean"
   ]
  },
  {
   "cell_type": "code",
   "execution_count": 28,
   "id": "3414bb30-412e-4581-8ac7-0d666d61e059",
   "metadata": {},
   "outputs": [
    {
     "name": "stdout",
     "output_type": "stream",
     "text": [
      "Encoded County column and renamed encoded columns for readability\n",
      "DataFrame is encoded and ready for modeling. :)\n"
     ]
    },
    {
     "data": {
      "text/html": [
       "<div>\n",
       "<style scoped>\n",
       "    .dataframe tbody tr th:only-of-type {\n",
       "        vertical-align: middle;\n",
       "    }\n",
       "\n",
       "    .dataframe tbody tr th {\n",
       "        vertical-align: top;\n",
       "    }\n",
       "\n",
       "    .dataframe thead th {\n",
       "        text-align: right;\n",
       "    }\n",
       "</style>\n",
       "<table border=\"1\" class=\"dataframe\">\n",
       "  <thead>\n",
       "    <tr style=\"text-align: right;\">\n",
       "      <th></th>\n",
       "      <th>bed</th>\n",
       "      <th>bath</th>\n",
       "      <th>sqft</th>\n",
       "      <th>assessed_worth</th>\n",
       "      <th>orange</th>\n",
       "      <th>ventura</th>\n",
       "    </tr>\n",
       "  </thead>\n",
       "  <tbody>\n",
       "    <tr>\n",
       "      <th>0</th>\n",
       "      <td>4</td>\n",
       "      <td>3.5</td>\n",
       "      <td>3100.0</td>\n",
       "      <td>1023282.0</td>\n",
       "      <td>1</td>\n",
       "      <td>0</td>\n",
       "    </tr>\n",
       "    <tr>\n",
       "      <th>1</th>\n",
       "      <td>2</td>\n",
       "      <td>1.0</td>\n",
       "      <td>1465.0</td>\n",
       "      <td>464000.0</td>\n",
       "      <td>0</td>\n",
       "      <td>1</td>\n",
       "    </tr>\n",
       "    <tr>\n",
       "      <th>2</th>\n",
       "      <td>3</td>\n",
       "      <td>2.0</td>\n",
       "      <td>1243.0</td>\n",
       "      <td>564778.0</td>\n",
       "      <td>1</td>\n",
       "      <td>0</td>\n",
       "    </tr>\n",
       "    <tr>\n",
       "      <th>3</th>\n",
       "      <td>4</td>\n",
       "      <td>3.0</td>\n",
       "      <td>2376.0</td>\n",
       "      <td>145143.0</td>\n",
       "      <td>0</td>\n",
       "      <td>0</td>\n",
       "    </tr>\n",
       "    <tr>\n",
       "      <th>4</th>\n",
       "      <td>4</td>\n",
       "      <td>3.0</td>\n",
       "      <td>2962.0</td>\n",
       "      <td>773303.0</td>\n",
       "      <td>0</td>\n",
       "      <td>0</td>\n",
       "    </tr>\n",
       "    <tr>\n",
       "      <th>...</th>\n",
       "      <td>...</td>\n",
       "      <td>...</td>\n",
       "      <td>...</td>\n",
       "      <td>...</td>\n",
       "      <td>...</td>\n",
       "      <td>...</td>\n",
       "    </tr>\n",
       "    <tr>\n",
       "      <th>52436</th>\n",
       "      <td>4</td>\n",
       "      <td>2.0</td>\n",
       "      <td>1633.0</td>\n",
       "      <td>346534.0</td>\n",
       "      <td>0</td>\n",
       "      <td>0</td>\n",
       "    </tr>\n",
       "    <tr>\n",
       "      <th>52437</th>\n",
       "      <td>2</td>\n",
       "      <td>2.0</td>\n",
       "      <td>1286.0</td>\n",
       "      <td>354621.0</td>\n",
       "      <td>0</td>\n",
       "      <td>0</td>\n",
       "    </tr>\n",
       "    <tr>\n",
       "      <th>52438</th>\n",
       "      <td>4</td>\n",
       "      <td>2.0</td>\n",
       "      <td>1612.0</td>\n",
       "      <td>67205.0</td>\n",
       "      <td>0</td>\n",
       "      <td>1</td>\n",
       "    </tr>\n",
       "    <tr>\n",
       "      <th>52439</th>\n",
       "      <td>3</td>\n",
       "      <td>1.0</td>\n",
       "      <td>1032.0</td>\n",
       "      <td>49546.0</td>\n",
       "      <td>0</td>\n",
       "      <td>0</td>\n",
       "    </tr>\n",
       "    <tr>\n",
       "      <th>52440</th>\n",
       "      <td>3</td>\n",
       "      <td>2.0</td>\n",
       "      <td>1762.0</td>\n",
       "      <td>522000.0</td>\n",
       "      <td>0</td>\n",
       "      <td>0</td>\n",
       "    </tr>\n",
       "  </tbody>\n",
       "</table>\n",
       "<p>45798 rows × 6 columns</p>\n",
       "</div>"
      ],
      "text/plain": [
       "       bed  bath    sqft  assessed_worth  orange  ventura\n",
       "0        4   3.5  3100.0       1023282.0       1        0\n",
       "1        2   1.0  1465.0        464000.0       0        1\n",
       "2        3   2.0  1243.0        564778.0       1        0\n",
       "3        4   3.0  2376.0        145143.0       0        0\n",
       "4        4   3.0  2962.0        773303.0       0        0\n",
       "...    ...   ...     ...             ...     ...      ...\n",
       "52436    4   2.0  1633.0        346534.0       0        0\n",
       "52437    2   2.0  1286.0        354621.0       0        0\n",
       "52438    4   2.0  1612.0         67205.0       0        1\n",
       "52439    3   1.0  1032.0         49546.0       0        0\n",
       "52440    3   2.0  1762.0        522000.0       0        0\n",
       "\n",
       "[45798 rows x 6 columns]"
      ]
     },
     "execution_count": 28,
     "metadata": {},
     "output_type": "execute_result"
    }
   ],
   "source": [
    "ex.encode_zillow(df_clean)"
   ]
  },
  {
   "cell_type": "code",
   "execution_count": 29,
   "id": "a51c2b07-b14a-48fc-88b4-54beadddfed6",
   "metadata": {},
   "outputs": [
    {
     "name": "stdout",
     "output_type": "stream",
     "text": [
      "Prepared DF: (45798, 6)\n",
      "Train: (27478, 6)\n",
      "Validate: (9160, 6)\n",
      "Test: (9160, 6)\n"
     ]
    }
   ],
   "source": [
    "# split again after encoding\n",
    "train_e, validate_e, test_e, = wr.split_zillow(df_encoded)"
   ]
  },
  {
   "cell_type": "code",
   "execution_count": 30,
   "id": "3d8327b9-378c-47d8-8602-5881c9bccedc",
   "metadata": {},
   "outputs": [
    {
     "name": "stdout",
     "output_type": "stream",
     "text": [
      "Variable assignment successful...\n",
      "Verifying number of features and target:\n",
      "Train: ((27478, 5), (27478, 1))\n",
      "Validate: ((9160, 5), (9160, 1))\n",
      "Test: ((9160, 5), (9160, 1))\n"
     ]
    }
   ],
   "source": [
    "# assign\n",
    "X_train, y_train, X_validate, y_validate, X_test, y_test = \\\n",
    "wr.x_y_train_validate_test(train_e, validate_e, test_e, 'assessed_worth')"
   ]
  },
  {
   "cell_type": "code",
   "execution_count": 31,
   "id": "35518330-e810-46f5-b5d1-a46cf26957f9",
   "metadata": {},
   "outputs": [
    {
     "data": {
      "text/html": [
       "<div>\n",
       "<style scoped>\n",
       "    .dataframe tbody tr th:only-of-type {\n",
       "        vertical-align: middle;\n",
       "    }\n",
       "\n",
       "    .dataframe tbody tr th {\n",
       "        vertical-align: top;\n",
       "    }\n",
       "\n",
       "    .dataframe thead th {\n",
       "        text-align: right;\n",
       "    }\n",
       "</style>\n",
       "<table border=\"1\" class=\"dataframe\">\n",
       "  <thead>\n",
       "    <tr style=\"text-align: right;\">\n",
       "      <th></th>\n",
       "      <th>bed</th>\n",
       "      <th>bath</th>\n",
       "      <th>sqft</th>\n",
       "      <th>orange</th>\n",
       "      <th>ventura</th>\n",
       "    </tr>\n",
       "  </thead>\n",
       "  <tbody>\n",
       "    <tr>\n",
       "      <th>27950</th>\n",
       "      <td>4</td>\n",
       "      <td>4.0</td>\n",
       "      <td>3359.0</td>\n",
       "      <td>1</td>\n",
       "      <td>0</td>\n",
       "    </tr>\n",
       "    <tr>\n",
       "      <th>26677</th>\n",
       "      <td>3</td>\n",
       "      <td>2.0</td>\n",
       "      <td>1096.0</td>\n",
       "      <td>0</td>\n",
       "      <td>0</td>\n",
       "    </tr>\n",
       "    <tr>\n",
       "      <th>41434</th>\n",
       "      <td>4</td>\n",
       "      <td>2.0</td>\n",
       "      <td>1506.0</td>\n",
       "      <td>0</td>\n",
       "      <td>0</td>\n",
       "    </tr>\n",
       "    <tr>\n",
       "      <th>9551</th>\n",
       "      <td>4</td>\n",
       "      <td>2.5</td>\n",
       "      <td>1943.0</td>\n",
       "      <td>0</td>\n",
       "      <td>1</td>\n",
       "    </tr>\n",
       "    <tr>\n",
       "      <th>8729</th>\n",
       "      <td>4</td>\n",
       "      <td>3.0</td>\n",
       "      <td>2341.0</td>\n",
       "      <td>0</td>\n",
       "      <td>0</td>\n",
       "    </tr>\n",
       "    <tr>\n",
       "      <th>...</th>\n",
       "      <td>...</td>\n",
       "      <td>...</td>\n",
       "      <td>...</td>\n",
       "      <td>...</td>\n",
       "      <td>...</td>\n",
       "    </tr>\n",
       "    <tr>\n",
       "      <th>957</th>\n",
       "      <td>3</td>\n",
       "      <td>3.0</td>\n",
       "      <td>850.0</td>\n",
       "      <td>0</td>\n",
       "      <td>1</td>\n",
       "    </tr>\n",
       "    <tr>\n",
       "      <th>35888</th>\n",
       "      <td>3</td>\n",
       "      <td>1.0</td>\n",
       "      <td>1219.0</td>\n",
       "      <td>0</td>\n",
       "      <td>0</td>\n",
       "    </tr>\n",
       "    <tr>\n",
       "      <th>1904</th>\n",
       "      <td>3</td>\n",
       "      <td>2.5</td>\n",
       "      <td>1896.0</td>\n",
       "      <td>1</td>\n",
       "      <td>0</td>\n",
       "    </tr>\n",
       "    <tr>\n",
       "      <th>37251</th>\n",
       "      <td>4</td>\n",
       "      <td>3.0</td>\n",
       "      <td>2361.0</td>\n",
       "      <td>0</td>\n",
       "      <td>0</td>\n",
       "    </tr>\n",
       "    <tr>\n",
       "      <th>52193</th>\n",
       "      <td>2</td>\n",
       "      <td>2.0</td>\n",
       "      <td>1385.0</td>\n",
       "      <td>0</td>\n",
       "      <td>0</td>\n",
       "    </tr>\n",
       "  </tbody>\n",
       "</table>\n",
       "<p>27478 rows × 5 columns</p>\n",
       "</div>"
      ],
      "text/plain": [
       "       bed  bath    sqft  orange  ventura\n",
       "27950    4   4.0  3359.0       1        0\n",
       "26677    3   2.0  1096.0       0        0\n",
       "41434    4   2.0  1506.0       0        0\n",
       "9551     4   2.5  1943.0       0        1\n",
       "8729     4   3.0  2341.0       0        0\n",
       "...    ...   ...     ...     ...      ...\n",
       "957      3   3.0   850.0       0        1\n",
       "35888    3   1.0  1219.0       0        0\n",
       "1904     3   2.5  1896.0       1        0\n",
       "37251    4   3.0  2361.0       0        0\n",
       "52193    2   2.0  1385.0       0        0\n",
       "\n",
       "[27478 rows x 5 columns]"
      ]
     },
     "execution_count": 31,
     "metadata": {},
     "output_type": "execute_result"
    }
   ],
   "source": [
    "X_train"
   ]
  },
  {
   "cell_type": "code",
   "execution_count": 32,
   "id": "46af7730-bf66-4110-a2a1-ce467af51915",
   "metadata": {},
   "outputs": [],
   "source": [
    "# set variable to_scale\n",
    "to_scale = X_train.columns.tolist()"
   ]
  },
  {
   "cell_type": "code",
   "execution_count": 33,
   "id": "8ab6f934-9923-44b3-9605-72d181827588",
   "metadata": {},
   "outputs": [
    {
     "data": {
      "image/png": "[encoded data removed]",
      "text/plain": [
       "<Figure size 1300x800 with 6 Axes>"
      ]
     },
     "metadata": {},
     "output_type": "display_data"
    },
    {
     "data": {
      "text/html": [
       "<div>\n",
       "<style scoped>\n",
       "    .dataframe tbody tr th:only-of-type {\n",
       "        vertical-align: middle;\n",
       "    }\n",
       "\n",
       "    .dataframe tbody tr th {\n",
       "        vertical-align: top;\n",
       "    }\n",
       "\n",
       "    .dataframe thead th {\n",
       "        text-align: right;\n",
       "    }\n",
       "</style>\n",
       "<table border=\"1\" class=\"dataframe\">\n",
       "  <thead>\n",
       "    <tr style=\"text-align: right;\">\n",
       "      <th></th>\n",
       "      <th>bed</th>\n",
       "      <th>bath</th>\n",
       "      <th>sqft</th>\n",
       "      <th>orange</th>\n",
       "      <th>ventura</th>\n",
       "    </tr>\n",
       "  </thead>\n",
       "  <tbody>\n",
       "    <tr>\n",
       "      <th>27950</th>\n",
       "      <td>0.666667</td>\n",
       "      <td>0.857143</td>\n",
       "      <td>0.919438</td>\n",
       "      <td>1.0</td>\n",
       "      <td>0.0</td>\n",
       "    </tr>\n",
       "    <tr>\n",
       "      <th>26677</th>\n",
       "      <td>0.333333</td>\n",
       "      <td>0.285714</td>\n",
       "      <td>0.270642</td>\n",
       "      <td>0.0</td>\n",
       "      <td>0.0</td>\n",
       "    </tr>\n",
       "    <tr>\n",
       "      <th>41434</th>\n",
       "      <td>0.666667</td>\n",
       "      <td>0.285714</td>\n",
       "      <td>0.388188</td>\n",
       "      <td>0.0</td>\n",
       "      <td>0.0</td>\n",
       "    </tr>\n",
       "    <tr>\n",
       "      <th>9551</th>\n",
       "      <td>0.666667</td>\n",
       "      <td>0.428571</td>\n",
       "      <td>0.513475</td>\n",
       "      <td>0.0</td>\n",
       "      <td>1.0</td>\n",
       "    </tr>\n",
       "    <tr>\n",
       "      <th>8729</th>\n",
       "      <td>0.666667</td>\n",
       "      <td>0.571429</td>\n",
       "      <td>0.627580</td>\n",
       "      <td>0.0</td>\n",
       "      <td>0.0</td>\n",
       "    </tr>\n",
       "  </tbody>\n",
       "</table>\n",
       "</div>"
      ],
      "text/plain": [
       "            bed      bath      sqft  orange  ventura\n",
       "27950  0.666667  0.857143  0.919438     1.0      0.0\n",
       "26677  0.333333  0.285714  0.270642     0.0      0.0\n",
       "41434  0.666667  0.285714  0.388188     0.0      0.0\n",
       "9551   0.666667  0.428571  0.513475     0.0      1.0\n",
       "8729   0.666667  0.571429  0.627580     0.0      0.0"
      ]
     },
     "execution_count": 33,
     "metadata": {},
     "output_type": "execute_result"
    }
   ],
   "source": [
    "# scaling the df and making copies\n",
    "X_train_scaled, X_validate_scaled, X_test_scaled = wr.scale_data(X_train, X_validate, X_test, to_scale)\n",
    "X_train_scaled.head()"
   ]
  },
  {
   "cell_type": "markdown",
   "id": "55faad26-9903-45ca-bbc2-50151279d762",
   "metadata": {},
   "source": [
    "<div class=\"alert alert-block alert-info\">  \n",
    "\n",
    "## Takeaways:\n",
    "    \n",
    "**Questions:**\n",
    "1. What is more important for property value, bathrooms or bedrooms?\n",
    "2. Does the size of the bathrooms affect value?\n",
    "3. Does having A/C affect property value?\n",
    "   * Unable to answer this question as during exploration the AC column had over 38,000 nulls\n",
    "\n",
    "    \n",
    "**Interesting relationships:**\n",
    "* The correlation. The variable that greatly affects predicatbility of worth is not in this dataset.\n",
    "    \n",
    "**Actions for this iteration:**\n",
    "* Continue with testing\n",
    "\n",
    "---\n",
    "    \n",
    "**What kind of features will I look at engineering?**\n",
    "\n",
    "* Full and half bath\n",
    "* Age and Sqft\n",
    "* Bath and Sqft\n",
    "* Date split into Month sold, then can bin monthly...?\n",
    "    \n",
    "    <div>"
   ]
  },
  {
   "cell_type": "markdown",
   "id": "01759200-50fb-42ea-94b5-73f9b21037ad",
   "metadata": {
    "tags": []
   },
   "source": [
    "## <div class=\"alert alert-block alert-info\"> Stats\n",
    "**Questions:**\n",
    "1. What is more important for property value, bathrooms or bedrooms?\n",
    "2. Does the size of the bathrooms affect value?\n",
    "3. Does having A/C affect property value?\n",
    "   * Unable to answer this question as during exploration the AC column had over 38,000 nulls\n",
    "\n",
    "---\n",
    "    \n",
    "**Stats Checklist:**\n",
    "* Hypothesize\n",
    "* Visualize\n",
    "* Analyze (with stats!)\n",
    "    * discrete - discrete = chi 2\n",
    "    * discrete - continous = means test\n",
    "    * continous - continous = correlation\n",
    "* Summarize <div>"
   ]
  },
  {
   "cell_type": "code",
   "execution_count": 43,
   "id": "57df9da4-63ea-4d27-9bfe-3f3603c4e79b",
   "metadata": {},
   "outputs": [
    {
     "data": {
      "image/png": "[encoded data removed]",
      "text/plain": [
       "<Figure size 640x480 with 2 Axes>"
      ]
     },
     "metadata": {},
     "output_type": "display_data"
    }
   ],
   "source": [
    "# Correlation\n",
    "worth_corr = train.corr(method='pearson')\n",
    "sns.heatmap(train.corr(method='pearson'), cmap='PRGn', annot=True, mask=np.triu(worth_corr))\n",
    "plt.title(f\"Assessed Worth Correlation Heatmap\")\n",
    "plt.show()"
   ]
  },
  {
   "cell_type": "markdown",
   "id": "6b37b2a3-e915-4f7a-9a01-a9adb5ebb2cc",
   "metadata": {},
   "source": [
    "<div class=\"alert alert-block alert-info\">\n",
    "    Questions:\n",
    "    \n",
    "* What features contribute to worth the most? Bath Size\n",
    "    * the least? Bed \n",
    "* What are my two most correlated features? Bath and Sqft at .78, Bed and Sqft at .61\n",
    "* What are my two lease correlated features? Bed and Worth at .21, Bath and worth at .38"
   ]
  },
  {
   "cell_type": "markdown",
   "id": "4fb57cd2-c787-4b65-bbdc-f13db59c0aac",
   "metadata": {},
   "source": [
    "---"
   ]
  },
  {
   "cell_type": "markdown",
   "id": "530e8dd2-d1c7-449c-ab4c-cea553d3d599",
   "metadata": {},
   "source": [
    "$H_0$: The mean of bedrooms is <= to the $\\mu$ of home value\n",
    "\n",
    "$H_a$: The mean of bedrooms is > to the $\\mu$ of home value"
   ]
  },
  {
   "cell_type": "code",
   "execution_count": null,
   "id": "f41c6f15-4c8d-4b49-afba-830e73f8bcc0",
   "metadata": {},
   "outputs": [],
   "source": [
    "# Visualize\n",
    "plt.hist(train.bed)\n",
    "plt.title(f'Bed Distribution')\n",
    "plt.show()"
   ]
  },
  {
   "cell_type": "code",
   "execution_count": 44,
   "id": "1db31158-8f51-4912-8916-f03ba21126a0",
   "metadata": {},
   "outputs": [
    {
     "name": "stdout",
     "output_type": "stream",
     "text": [
      "Assumptions are met: One-Sample, Two-Tailed T-Test successful...\n",
      "t-stat: -78632558.4065836 > 0?\n",
      "p-value: 0.0000000000 < 0.05?\n",
      "\n",
      "----\n",
      "We fail to reject the null hypothesis.\n"
     ]
    }
   ],
   "source": [
    "# Analyze\n",
    "# Using one sample, two-tailed t-test with assumptions met\n",
    "sc.conclude_1samp_tt(train.bed, train.assessed_worth.mean())"
   ]
  },
  {
   "cell_type": "code",
   "execution_count": 45,
   "id": "ffe5836f-4cd8-46b2-a02c-ea6716db4bd0",
   "metadata": {},
   "outputs": [
    {
     "name": "stdout",
     "output_type": "stream",
     "text": [
      "Assumptions are met: One-Sample, Right-Tailed T-Test successful...\n",
      "t-stat: -78632558.4065836 > 0?\n",
      "p-value: 0.0 < 0.05?\n",
      "\n",
      "----\n",
      "We fail to reject the null hypothesis.\n"
     ]
    }
   ],
   "source": [
    "# Analyze\n",
    "# Using one sample, right-tailed t-test with assumptions met\n",
    "sc.conclude_1samp_gt(train.bed, train.assessed_worth.mean())"
   ]
  },
  {
   "cell_type": "code",
   "execution_count": 46,
   "id": "b76da388-a1cd-4700-a2c1-a42f63057c76",
   "metadata": {},
   "outputs": [
    {
     "name": "stdout",
     "output_type": "stream",
     "text": [
      "Assumptions are met: One-Sample, Left-Tailed T-Test successful...\n",
      "t-stat: -78632558.4065836 < 0?\n",
      "p-value: 0.0 < 0.05?\n",
      "\n",
      "----\n",
      "We can reject the null hypothesis.\n"
     ]
    }
   ],
   "source": [
    "# Analyze\n",
    "# Using one sample, left-tailed t-test with assumptions met\n",
    "sc.conclude_1samp_lt(train.bed, train.assessed_worth.mean())"
   ]
  },
  {
   "cell_type": "markdown",
   "id": "0212609c-02e6-44f0-9684-b37de0668008",
   "metadata": {},
   "source": [
    "<div class=\"alert alert-block alert-info\">\n",
    "Bedroom count failed to reject on two tail and right tailed test. Rejected the null on left tailed test. This demonstrates that the less bedrooms a home has, the lower its value is, significantly.\n",
    "    \n",
    "Bedroom count does not play a signficant role in a homes value."
   ]
  },
  {
   "cell_type": "markdown",
   "id": "37bb40ff-4002-40db-a482-4ab58733584e",
   "metadata": {},
   "source": [
    "---"
   ]
  },
  {
   "cell_type": "markdown",
   "id": "6c8c019a-25b1-4b61-8e26-e6828b17f6aa",
   "metadata": {},
   "source": [
    "$H_0$: The mean of bathrooms is <= the $\\mu$ of home value\n",
    "\n",
    "$H_a$: The mean of bathrooms is > the $\\mu$ of home value"
   ]
  },
  {
   "cell_type": "code",
   "execution_count": null,
   "id": "fa382b29-fa48-4967-b4a7-02ad52e09c89",
   "metadata": {},
   "outputs": [],
   "source": [
    "# Visualize\n",
    "plt.hist(train.bath)\n",
    "plt.title(f'Bath Distribution')\n",
    "plt.show()"
   ]
  },
  {
   "cell_type": "code",
   "execution_count": 48,
   "id": "6482f896-e938-4687-8579-a8fb14158511",
   "metadata": {},
   "outputs": [
    {
     "name": "stdout",
     "output_type": "stream",
     "text": [
      "Assumptions are met: One-Sample, Two-Tailed T-Test successful...\n",
      "t-stat: -84074654.35593277 > 0?\n",
      "p-value: 0.0000000000 < 0.05?\n",
      "\n",
      "----\n",
      "We fail to reject the null hypothesis.\n"
     ]
    }
   ],
   "source": [
    "# Analyze\n",
    "# Using one sample, two-tailed t-test with assumptions met\n",
    "sc.conclude_1samp_tt(train.bath, train.assessed_worth.mean())"
   ]
  },
  {
   "cell_type": "code",
   "execution_count": 49,
   "id": "3d71318e-e3c0-4c6b-9bde-97eedf7af833",
   "metadata": {},
   "outputs": [
    {
     "name": "stdout",
     "output_type": "stream",
     "text": [
      "Assumptions are met: One-Sample, Right-Tailed T-Test successful...\n",
      "t-stat: -84074654.35593277 > 0?\n",
      "p-value: 0.0 < 0.05?\n",
      "\n",
      "----\n",
      "We fail to reject the null hypothesis.\n"
     ]
    }
   ],
   "source": [
    "# Analyze\n",
    "# Using one sample, right-tailed t-test with assumptions met\n",
    "sc.conclude_1samp_gt(train.bath, train.assessed_worth.mean())"
   ]
  },
  {
   "cell_type": "code",
   "execution_count": 50,
   "id": "21989771-8af7-407c-86f1-05522e2d77d0",
   "metadata": {},
   "outputs": [
    {
     "name": "stdout",
     "output_type": "stream",
     "text": [
      "Assumptions are met: One-Sample, Left-Tailed T-Test successful...\n",
      "t-stat: -84074654.35593277 < 0?\n",
      "p-value: 0.0 < 0.05?\n",
      "\n",
      "----\n",
      "We can reject the null hypothesis.\n"
     ]
    }
   ],
   "source": [
    "# Analyze\n",
    "# Using one sample, left-tailed, t-test with assumptions met\n",
    "sc.conclude_1samp_lt(train.bath, train.assessed_worth.mean())"
   ]
  },
  {
   "cell_type": "markdown",
   "id": "32383fbe-bc18-4a71-be45-d1a748cd3e12",
   "metadata": {},
   "source": [
    "<div class=\"alert alert-block alert-info\">\n",
    "Bathroom count failed to reject on two tail and right tailed test. Rejected the null on left tailed test. This demonstrates that the less bathrooms a home has, the lower its value is, significantly.\n",
    "    \n",
    "Number of bathrooms does play a signficant role in a homes value."
   ]
  },
  {
   "cell_type": "markdown",
   "id": "08f69e3f-4c7c-49f5-bbf0-fe6c7ed94f59",
   "metadata": {},
   "source": [
    "---"
   ]
  },
  {
   "cell_type": "markdown",
   "id": "ed466a0d-adb8-4f94-b917-45351e52e5bd",
   "metadata": {},
   "source": [
    "$H_0$: The mean of sqft is = the $\\mu$ of home value\n",
    "\n",
    "$H_a$: The mean of sqft is != to the $\\mu$ of home value"
   ]
  },
  {
   "cell_type": "code",
   "execution_count": null,
   "id": "8a08f07d-c036-4b4e-b360-d950c97a6049",
   "metadata": {},
   "outputs": [],
   "source": [
    "# Visualize\n",
    "plt.hist(train.sqft)\n",
    "plt.title(f'Sqft Distribution')\n",
    "plt.show()"
   ]
  },
  {
   "cell_type": "code",
   "execution_count": 51,
   "id": "5a504db1-9f45-4abb-a24a-2a6b49576921",
   "metadata": {},
   "outputs": [
    {
     "name": "stdout",
     "output_type": "stream",
     "text": [
      "Assumptions are met: One-Sample, Two-Tailed T-Test successful...\n",
      "t-stat: -99301.66573375236 > 0?\n",
      "p-value: 0.0000000000 < 0.05?\n",
      "\n",
      "----\n",
      "We fail to reject the null hypothesis.\n"
     ]
    }
   ],
   "source": [
    "# Analyze\n",
    "# Using one sample, two-tailed t-test with assumptions met\n",
    "sc.conclude_1samp_tt(train.sqft, train.assessed_worth.mean())"
   ]
  },
  {
   "cell_type": "code",
   "execution_count": 52,
   "id": "30b30f6f-dadc-454f-ba08-22bae2726358",
   "metadata": {},
   "outputs": [
    {
     "name": "stdout",
     "output_type": "stream",
     "text": [
      "Assumptions are met: One-Sample, Right-Tailed T-Test successful...\n",
      "t-stat: -99301.66573375236 > 0?\n",
      "p-value: 0.0 < 0.05?\n",
      "\n",
      "----\n",
      "We fail to reject the null hypothesis.\n"
     ]
    }
   ],
   "source": [
    "# Analyze\n",
    "# Using one sample, right-tailed t-test with assumptions met\n",
    "sc.conclude_1samp_gt(train.sqft, train.assessed_worth.mean())"
   ]
  },
  {
   "cell_type": "code",
   "execution_count": 53,
   "id": "9fe66e35-101f-49c4-8092-ee02852063b8",
   "metadata": {},
   "outputs": [
    {
     "name": "stdout",
     "output_type": "stream",
     "text": [
      "Assumptions are met: One-Sample, Left-Tailed T-Test successful...\n",
      "t-stat: -99301.66573375236 < 0?\n",
      "p-value: 0.0 < 0.05?\n",
      "\n",
      "----\n",
      "We can reject the null hypothesis.\n"
     ]
    }
   ],
   "source": [
    "# Analyze\n",
    "# Using one sample, left-tailed t-test with assumptions met\n",
    "sc.conclude_1samp_lt(train.sqft, train.assessed_worth.mean())"
   ]
  },
  {
   "cell_type": "markdown",
   "id": "628d14ff-cbdf-4a8e-8f6b-1e03c9587150",
   "metadata": {},
   "source": [
    "---"
   ]
  },
  {
   "cell_type": "markdown",
   "id": "d24c9e24-42b9-4999-871b-4e8bbc9a956b",
   "metadata": {},
   "source": [
    "<div class=\"alert alert-block alert-info\">\n",
    "\n",
    "Sqft failed to reject on two tail and right tailed test. Rejected the null on left tailed test. This demonstrates that the less bathrooms a home has, the lower its value is, significantly.\n",
    "\n",
    "Sqft does play a signficant role in a homes value.\n",
    "    \n",
    "## Overall, this seems that there is more to the story. All of these features displayed similar characteristics on the one sample test. They may have correlation...\n",
    "    \n",
    "Run iterate_columns to look at pearson's r comparisons..."
   ]
  },
  {
   "cell_type": "markdown",
   "id": "5eb57d57-9a29-4943-ba17-f6ac4edb875d",
   "metadata": {},
   "source": [
    "$H_0$: There is no relationship between variables\n",
    "\n",
    "$H_a$: There is a relationship between variables"
   ]
  },
  {
   "cell_type": "code",
   "execution_count": 54,
   "id": "7fc56e4e-1aa7-4f7c-b99d-b1fb03b427d8",
   "metadata": {},
   "outputs": [
    {
     "name": "stdout",
     "output_type": "stream",
     "text": [
      "('bed', 'bath')\n",
      "corr: 0.58 > 0?\n",
      "p-value: 0.0000000000 < 0.05?\n",
      "----\n",
      "We can reject the null hypothesis.\n",
      "\n",
      "('bed', 'sqft')\n",
      "corr: 0.60 > 0?\n",
      "p-value: 0.0000000000 < 0.05?\n",
      "----\n",
      "We can reject the null hypothesis.\n",
      "\n",
      "('bed', 'assessed_worth')\n",
      "corr: 0.21 > 0?\n",
      "p-value: 0.0000000000 < 0.05?\n",
      "----\n",
      "We can reject the null hypothesis.\n",
      "\n",
      "('bath', 'sqft')\n",
      "corr: 0.78 > 0?\n",
      "p-value: 0.0000000000 < 0.05?\n",
      "----\n",
      "We can reject the null hypothesis.\n",
      "\n",
      "('bath', 'assessed_worth')\n",
      "corr: 0.38 > 0?\n",
      "p-value: 0.0000000000 < 0.05?\n",
      "----\n",
      "We can reject the null hypothesis.\n",
      "\n",
      "('sqft', 'assessed_worth')\n",
      "corr: 0.46 > 0?\n",
      "p-value: 0.0000000000 < 0.05?\n",
      "----\n",
      "We can reject the null hypothesis.\n",
      "\n",
      "('bed', 'bath', 'sqft')\n",
      "corr: 0.58 > 0?\n",
      "p-value: 0.0000000000 < 0.05?\n",
      "----\n",
      "We can reject the null hypothesis.\n",
      "\n",
      "('bed', 'bath', 'assessed_worth')\n",
      "corr: 0.58 > 0?\n",
      "p-value: 0.0000000000 < 0.05?\n",
      "----\n",
      "We can reject the null hypothesis.\n",
      "\n",
      "('bed', 'sqft', 'assessed_worth')\n",
      "corr: 0.60 > 0?\n",
      "p-value: 0.0000000000 < 0.05?\n",
      "----\n",
      "We can reject the null hypothesis.\n",
      "\n",
      "('bath', 'sqft', 'assessed_worth')\n",
      "corr: 0.78 > 0?\n",
      "p-value: 0.0000000000 < 0.05?\n",
      "----\n",
      "We can reject the null hypothesis.\n",
      "\n",
      "('bed', 'bath', 'sqft', 'assessed_worth')\n",
      "corr: 0.58 > 0?\n",
      "p-value: 0.0000000000 < 0.05?\n",
      "----\n",
      "We can reject the null hypothesis.\n",
      "\n"
     ]
    }
   ],
   "source": [
    "sc.iterate_columns(train)"
   ]
  },
  {
   "cell_type": "markdown",
   "id": "0ab496b2-5111-4add-a59a-72b5ec0919e9",
   "metadata": {},
   "source": [
    "<div class=\"alert alert-block alert-info\"> \n",
    "    \n",
    "### Takeaways:\n",
    "    \n",
    "Overall:\n",
    "* All features are fairly closely related.\n",
    "* Pearson's R Correlation Test rejected the null in all combos.\n",
    "    \n",
    "Highest Corr:\n",
    "* Bath, Sqft, Worth\n",
    "    * .78 \n",
    "* The size of the bath is a feature worth engineering.\n",
    "    \n",
    "Lowest Corr:\n",
    "* Bed and Worth\n",
    "    * .21"
   ]
  },
  {
   "cell_type": "code",
   "execution_count": 64,
   "id": "ef95f19a-1d19-44df-a43f-7ac14b7b845b",
   "metadata": {},
   "outputs": [
    {
     "data": {
      "image/png": "[encoded data removed]",
      "text/plain": [
       "<Figure size 1200x800 with 1 Axes>"
      ]
     },
     "metadata": {},
     "output_type": "display_data"
    },
    {
     "data": {
      "image/png": "[encoded data removed]",
      "text/plain": [
       "<Figure size 640x480 with 1 Axes>"
      ]
     },
     "metadata": {},
     "output_type": "display_data"
    }
   ],
   "source": [
    "ex.plot_variables(train, 'bed', 'bath')"
   ]
  },
  {
   "cell_type": "markdown",
   "id": "449fbd52-2207-4c26-896a-ebf77e28144a",
   "metadata": {},
   "source": [
    "<div class=\"alert alert-block alert-info\"> \n",
    "    \n",
    "### Takeaways:\n",
    "* 2.5 baths with 4 and 5 beds is higher worth\n",
    "* The jump from 3 to 3.5 baths is significant with 3 beds\n",
    "    \n",
    "* 3 baths presents most equal distribution for number of beds and baths\n",
    "    \n",
    "* Confirms the need to engineer features - but first, identify the top one"
   ]
  },
  {
   "cell_type": "markdown",
   "id": "67bd968c-77fb-4eb2-a98b-b6c384f37b74",
   "metadata": {},
   "source": [
    "### <div class=\"alert alert-block alert-info\"> Feature Engineering:\n",
    "    \n",
    "Goal: To identify top features.\n",
    "    \n",
    "1) Use SelectKBest for top feature\n",
    "2) Use RFE for top feature\n",
    "3) Compare\n",
    "    * Sqft was determined for both to be the best feature which supports all statistic and visuals prior to running these algorithms\n",
    "   "
   ]
  },
  {
   "cell_type": "code",
   "execution_count": 65,
   "id": "c99b09bc-76e5-4a3b-9963-9b650a8aef68",
   "metadata": {},
   "outputs": [
    {
     "name": "stdout",
     "output_type": "stream",
     "text": [
      "These are the top 1 columns selected from Select K Best model:\n"
     ]
    },
    {
     "data": {
      "text/plain": [
       "['sqft']"
      ]
     },
     "execution_count": 65,
     "metadata": {},
     "output_type": "execute_result"
    }
   ],
   "source": [
    "# Select KBEST\n",
    "ev.select_kbest(X_train_scaled, y_train, 1)"
   ]
  },
  {
   "cell_type": "code",
   "execution_count": 66,
   "id": "009b32a5-02b1-4596-8ce5-95f0cb8f4bd7",
   "metadata": {},
   "outputs": [
    {
     "name": "stdout",
     "output_type": "stream",
     "text": [
      "These are the top 1 columns selected from RFE model:\n"
     ]
    },
    {
     "data": {
      "text/plain": [
       "['sqft']"
      ]
     },
     "execution_count": 66,
     "metadata": {},
     "output_type": "execute_result"
    }
   ],
   "source": [
    "# RFE\n",
    "ev.rfe(X_train_scaled, y_train, 1)"
   ]
  },
  {
   "cell_type": "markdown",
   "id": "5b4eb1ba-91ce-436e-90ef-8d222ae06681",
   "metadata": {},
   "source": [
    "<div class=\"alert alert-block alert-info\">\n",
    "\n",
    "### Takeaways:\n",
    "    \n",
    "Sqft was determined for both to be the best feature which supports all statistic and visuals prior to running these algorithms"
   ]
  },
  {
   "cell_type": "markdown",
   "id": "499cfc1e-ab25-43e5-bfd2-a425c5e6db8b",
   "metadata": {
    "tags": []
   },
   "source": [
    "## <div class=\"alert alert-block alert-info\"> Regression Model:\n",
    "    \n",
    "#### Goal: Run 4 types of models, select the best, and beat the baseline using test dataset\n",
    "    \n",
    "1. OLS\n",
    "2. LassoLars\n",
    "3. GLM (TweedieRegressor)\n",
    "4. Polynomial Regression\n",
    "    \n"
   ]
  },
  {
   "cell_type": "code",
   "execution_count": 35,
   "id": "8e567477-2886-4835-8265-e2222a96851a",
   "metadata": {
    "tags": []
   },
   "outputs": [
    {
     "data": {
      "text/html": [
       "<div>\n",
       "<style scoped>\n",
       "    .dataframe tbody tr th:only-of-type {\n",
       "        vertical-align: middle;\n",
       "    }\n",
       "\n",
       "    .dataframe tbody tr th {\n",
       "        vertical-align: top;\n",
       "    }\n",
       "\n",
       "    .dataframe thead th {\n",
       "        text-align: right;\n",
       "    }\n",
       "</style>\n",
       "<table border=\"1\" class=\"dataframe\">\n",
       "  <thead>\n",
       "    <tr style=\"text-align: right;\">\n",
       "      <th></th>\n",
       "      <th>bed</th>\n",
       "      <th>bath</th>\n",
       "      <th>sqft</th>\n",
       "      <th>orange</th>\n",
       "      <th>ventura</th>\n",
       "    </tr>\n",
       "  </thead>\n",
       "  <tbody>\n",
       "    <tr>\n",
       "      <th>27950</th>\n",
       "      <td>0.666667</td>\n",
       "      <td>0.857143</td>\n",
       "      <td>0.919438</td>\n",
       "      <td>1.0</td>\n",
       "      <td>0.0</td>\n",
       "    </tr>\n",
       "    <tr>\n",
       "      <th>26677</th>\n",
       "      <td>0.333333</td>\n",
       "      <td>0.285714</td>\n",
       "      <td>0.270642</td>\n",
       "      <td>0.0</td>\n",
       "      <td>0.0</td>\n",
       "    </tr>\n",
       "    <tr>\n",
       "      <th>41434</th>\n",
       "      <td>0.666667</td>\n",
       "      <td>0.285714</td>\n",
       "      <td>0.388188</td>\n",
       "      <td>0.0</td>\n",
       "      <td>0.0</td>\n",
       "    </tr>\n",
       "    <tr>\n",
       "      <th>9551</th>\n",
       "      <td>0.666667</td>\n",
       "      <td>0.428571</td>\n",
       "      <td>0.513475</td>\n",
       "      <td>0.0</td>\n",
       "      <td>1.0</td>\n",
       "    </tr>\n",
       "    <tr>\n",
       "      <th>8729</th>\n",
       "      <td>0.666667</td>\n",
       "      <td>0.571429</td>\n",
       "      <td>0.627580</td>\n",
       "      <td>0.0</td>\n",
       "      <td>0.0</td>\n",
       "    </tr>\n",
       "  </tbody>\n",
       "</table>\n",
       "</div>"
      ],
      "text/plain": [
       "            bed      bath      sqft  orange  ventura\n",
       "27950  0.666667  0.857143  0.919438     1.0      0.0\n",
       "26677  0.333333  0.285714  0.270642     0.0      0.0\n",
       "41434  0.666667  0.285714  0.388188     0.0      0.0\n",
       "9551   0.666667  0.428571  0.513475     0.0      1.0\n",
       "8729   0.666667  0.571429  0.627580     0.0      0.0"
      ]
     },
     "execution_count": 35,
     "metadata": {},
     "output_type": "execute_result"
    }
   ],
   "source": [
    "X_train_scaled.head()"
   ]
  },
  {
   "cell_type": "code",
   "execution_count": 36,
   "id": "be5648da-3ece-4e2d-b247-eed4bb8054f5",
   "metadata": {},
   "outputs": [
    {
     "data": {
      "image/png": "[encoded data removed]",
      "text/plain": [
       "<Figure size 640x480 with 1 Axes>"
      ]
     },
     "metadata": {},
     "output_type": "display_data"
    }
   ],
   "source": [
    "sns.histplot(y_train)\n",
    "plt.title('distribution of target variable')\n",
    "plt.show()"
   ]
  },
  {
   "cell_type": "code",
   "execution_count": 38,
   "id": "11e28d72-638e-42a0-abff-a8da3287c495",
   "metadata": {},
   "outputs": [
    {
     "data": {
      "text/plain": [
       "assessed_worth    376100.94\n",
       "dtype: float64"
      ]
     },
     "execution_count": 38,
     "metadata": {},
     "output_type": "execute_result"
    }
   ],
   "source": [
    "# baseline\n",
    "baseline = y_train.mean().round(2)\n",
    "baseline"
   ]
  },
  {
   "cell_type": "code",
   "execution_count": 39,
   "id": "650a5ce8-4c8a-484d-ab89-96e8d512b469",
   "metadata": {},
   "outputs": [
    {
     "data": {
      "text/plain": [
       "assessed_worth    376100.94\n",
       "assessed_worth    376100.94\n",
       "assessed_worth    376100.94\n",
       "assessed_worth    376100.94\n",
       "assessed_worth    376100.94\n",
       "                    ...    \n",
       "assessed_worth    376100.94\n",
       "assessed_worth    376100.94\n",
       "assessed_worth    376100.94\n",
       "assessed_worth    376100.94\n",
       "assessed_worth    376100.94\n",
       "Length: 27478, dtype: float64"
      ]
     },
     "execution_count": 39,
     "metadata": {},
     "output_type": "execute_result"
    }
   ],
   "source": [
    "# make array\n",
    "baseline_array = np.repeat(baseline, len(X_train_scaled))\n",
    "baseline_array"
   ]
  },
  {
   "cell_type": "code",
   "execution_count": 40,
   "id": "e27ac39e-e710-49e1-bf0c-e3e680ffbc67",
   "metadata": {},
   "outputs": [
    {
     "data": {
      "text/plain": [
       "(246177.8146893768, -4.440892098500626e-16)"
      ]
     },
     "execution_count": 40,
     "metadata": {},
     "output_type": "execute_result"
    }
   ],
   "source": [
    "# evaluate\n",
    "rmse, r2 = ev.metrics_reg(y_train, baseline_array)\n",
    "rmse, r2"
   ]
  },
  {
   "cell_type": "code",
   "execution_count": 41,
   "id": "5ec591bd-eadd-4d01-a604-ad45589d9e85",
   "metadata": {},
   "outputs": [
    {
     "data": {
      "text/html": [
       "<div>\n",
       "<style scoped>\n",
       "    .dataframe tbody tr th:only-of-type {\n",
       "        vertical-align: middle;\n",
       "    }\n",
       "\n",
       "    .dataframe tbody tr th {\n",
       "        vertical-align: top;\n",
       "    }\n",
       "\n",
       "    .dataframe thead th {\n",
       "        text-align: right;\n",
       "    }\n",
       "</style>\n",
       "<table border=\"1\" class=\"dataframe\">\n",
       "  <thead>\n",
       "    <tr style=\"text-align: right;\">\n",
       "      <th></th>\n",
       "      <th>Model</th>\n",
       "      <th>RMSE</th>\n",
       "      <th>R2</th>\n",
       "    </tr>\n",
       "  </thead>\n",
       "  <tbody>\n",
       "    <tr>\n",
       "      <th>0</th>\n",
       "      <td>Baseline</td>\n",
       "      <td>246177.814689</td>\n",
       "      <td>-4.440892e-16</td>\n",
       "    </tr>\n",
       "  </tbody>\n",
       "</table>\n",
       "</div>"
      ],
      "text/plain": [
       "      Model           RMSE            R2\n",
       "0  Baseline  246177.814689 -4.440892e-16"
      ]
     },
     "execution_count": 41,
     "metadata": {},
     "output_type": "execute_result"
    }
   ],
   "source": [
    "# put baseline prediction into metrics df\n",
    "metrics_df = pd.DataFrame(data=[\n",
    "    {\n",
    "        'Model':'Baseline',\n",
    "        'RMSE':rmse,\n",
    "        'R2':r2\n",
    "    }\n",
    "    \n",
    "])\n",
    "metrics_df"
   ]
  },
  {
   "cell_type": "code",
   "execution_count": 42,
   "id": "83291bf3-aa21-4378-ab29-3179d2162457",
   "metadata": {},
   "outputs": [],
   "source": [
    "#intial ML model\n",
    "lr1 = LinearRegression()\n",
    "\n",
    "#make it\n",
    "rfe = RFE(lr1, n_features_to_select=1)\n",
    "\n",
    "#fit it\n",
    "rfe.fit(X_train_scaled, y_train)\n",
    "\n",
    "#use it on train\n",
    "X_train_rfe = rfe.transform(X_train_scaled)\n",
    "\n",
    "#use it on validate\n",
    "X_val_rfe = rfe.transform(X_validate_scaled)"
   ]
  },
  {
   "cell_type": "code",
   "execution_count": 43,
   "id": "85c1b752-4937-4e39-9a71-2af7817503e0",
   "metadata": {},
   "outputs": [
    {
     "name": "stdout",
     "output_type": "stream",
     "text": [
      "selected top feature: ['sqft']\n"
     ]
    }
   ],
   "source": [
    "print('selected top feature:', rfe.get_feature_names_out())\n"
   ]
  },
  {
   "cell_type": "code",
   "execution_count": 44,
   "id": "363dbfa7-0ab2-46a9-a45c-0058c060609e",
   "metadata": {},
   "outputs": [],
   "source": [
    "# build model from top feature\n",
    "# fit the thing\n",
    "lr1.fit(X_train_rfe, y_train)\n",
    "\n",
    "#use the thing (make predictions)\n",
    "pred_lr1 = lr1.predict(X_train_rfe)\n",
    "pred_val_lr1 = lr1.predict(X_val_rfe)"
   ]
  },
  {
   "cell_type": "code",
   "execution_count": 56,
   "id": "c38fa36c-9efd-4341-a71c-a8dc48e4f951",
   "metadata": {},
   "outputs": [
    {
     "data": {
      "text/plain": [
       "array([[674153.08683889],\n",
       "       [263597.52825889],\n",
       "       [337980.10847002],\n",
       "       [417261.05371946],\n",
       "       [489466.58280246]])"
      ]
     },
     "execution_count": 56,
     "metadata": {},
     "output_type": "execute_result"
    }
   ],
   "source": [
    "# look at preds\n",
    "pred_lr1[:5]"
   ]
  },
  {
   "cell_type": "code",
   "execution_count": 46,
   "id": "e8af2714-3f75-4f2e-bc6f-53c7aca38f0e",
   "metadata": {},
   "outputs": [
    {
     "data": {
      "text/plain": [
       "(218514.65106499006, 0.21211415556717272)"
      ]
     },
     "execution_count": 46,
     "metadata": {},
     "output_type": "execute_result"
    }
   ],
   "source": [
    "# evaluate train\n",
    "ev.metrics_reg(y_train, pred_lr1)"
   ]
  },
  {
   "cell_type": "code",
   "execution_count": 58,
   "id": "f922b98b-65f7-406e-a1e0-c2683f2441ea",
   "metadata": {},
   "outputs": [
    {
     "data": {
      "text/plain": [
       "(218945.43998673183, 0.20832510092002166)"
      ]
     },
     "execution_count": 58,
     "metadata": {},
     "output_type": "execute_result"
    }
   ],
   "source": [
    "# evaluate validate\n",
    "rmse, r2 = ev.metrics_reg(y_validate, pred_val_lr1)\n",
    "rmse, r2"
   ]
  },
  {
   "cell_type": "code",
   "execution_count": 49,
   "id": "a0540dd9-9d7b-4193-b18c-684e9c56f3d6",
   "metadata": {},
   "outputs": [
    {
     "data": {
      "text/html": [
       "<div>\n",
       "<style scoped>\n",
       "    .dataframe tbody tr th:only-of-type {\n",
       "        vertical-align: middle;\n",
       "    }\n",
       "\n",
       "    .dataframe tbody tr th {\n",
       "        vertical-align: top;\n",
       "    }\n",
       "\n",
       "    .dataframe thead th {\n",
       "        text-align: right;\n",
       "    }\n",
       "</style>\n",
       "<table border=\"1\" class=\"dataframe\">\n",
       "  <thead>\n",
       "    <tr style=\"text-align: right;\">\n",
       "      <th></th>\n",
       "      <th>Model</th>\n",
       "      <th>RMSE</th>\n",
       "      <th>R2</th>\n",
       "    </tr>\n",
       "  </thead>\n",
       "  <tbody>\n",
       "    <tr>\n",
       "      <th>0</th>\n",
       "      <td>Baseline</td>\n",
       "      <td>246177.814689</td>\n",
       "      <td>-4.440892e-16</td>\n",
       "    </tr>\n",
       "    <tr>\n",
       "      <th>1</th>\n",
       "      <td>OLS_1</td>\n",
       "      <td>218945.439987</td>\n",
       "      <td>2.083251e-01</td>\n",
       "    </tr>\n",
       "  </tbody>\n",
       "</table>\n",
       "</div>"
      ],
      "text/plain": [
       "      Model           RMSE            R2\n",
       "0  Baseline  246177.814689 -4.440892e-16\n",
       "1     OLS_1  218945.439987  2.083251e-01"
      ]
     },
     "execution_count": 49,
     "metadata": {},
     "output_type": "execute_result"
    }
   ],
   "source": [
    "#add to my metrics df\n",
    "metrics_df.loc[1] = ['OLS_1', rmse, r2]\n",
    "metrics_df"
   ]
  },
  {
   "cell_type": "code",
   "execution_count": 52,
   "id": "0c4571c2-57cf-4b62-9b0f-92001e42ca25",
   "metadata": {},
   "outputs": [
    {
     "data": {
      "text/plain": [
       "(array([92336.17284593]), array([[632796.19457669]]))"
      ]
     },
     "execution_count": 52,
     "metadata": {},
     "output_type": "execute_result"
    }
   ],
   "source": [
    "# examine the model\n",
    "lr1.intercept_, lr1.coef_"
   ]
  },
  {
   "cell_type": "code",
   "execution_count": 59,
   "id": "4c8e905e-9a9f-4879-9d32-64044b0142eb",
   "metadata": {},
   "outputs": [],
   "source": [
    "# OLS\n",
    "#make it\n",
    "lr2 = LinearRegression()\n",
    "\n",
    "#fit it on our RFE features\n",
    "lr2.fit(X_train_scaled, y_train)\n",
    "\n",
    "#use it (make predictions)\n",
    "pred_lr2 = lr2.predict(X_train_scaled)\n",
    "\n",
    "#use it on validate\n",
    "pred_val_lr2 = lr2.predict(X_validate_scaled)"
   ]
  },
  {
   "cell_type": "code",
   "execution_count": 60,
   "id": "b73a373b-d0ed-4ba3-843b-9702658931ba",
   "metadata": {},
   "outputs": [
    {
     "data": {
      "text/plain": [
       "array([[730443.68216663],\n",
       "       [251769.10434181],\n",
       "       [283165.67740156],\n",
       "       [423116.23297584],\n",
       "       [459955.01303723]])"
      ]
     },
     "execution_count": 60,
     "metadata": {},
     "output_type": "execute_result"
    }
   ],
   "source": [
    "# predictions\n",
    "pred_lr2[:5]"
   ]
  },
  {
   "cell_type": "code",
   "execution_count": 63,
   "id": "7c583250-7ead-498c-89da-1295f8fe84a4",
   "metadata": {},
   "outputs": [
    {
     "data": {
      "text/plain": [
       "(215313.32006255494, 0.23437366775353607)"
      ]
     },
     "execution_count": 63,
     "metadata": {},
     "output_type": "execute_result"
    }
   ],
   "source": [
    "#train \n",
    "ev.metrics_reg(y_train, pred_lr2)\n",
    "\n",
    "#validate\n",
    "rmse, r2 = ev.metrics_reg(y_validate, pred_val_lr2)\n",
    "rmse, r2"
   ]
  },
  {
   "cell_type": "code",
   "execution_count": 64,
   "id": "c896c62d-47e4-43df-80cf-4ab41e332074",
   "metadata": {},
   "outputs": [
    {
     "data": {
      "text/html": [
       "<div>\n",
       "<style scoped>\n",
       "    .dataframe tbody tr th:only-of-type {\n",
       "        vertical-align: middle;\n",
       "    }\n",
       "\n",
       "    .dataframe tbody tr th {\n",
       "        vertical-align: top;\n",
       "    }\n",
       "\n",
       "    .dataframe thead th {\n",
       "        text-align: right;\n",
       "    }\n",
       "</style>\n",
       "<table border=\"1\" class=\"dataframe\">\n",
       "  <thead>\n",
       "    <tr style=\"text-align: right;\">\n",
       "      <th></th>\n",
       "      <th>Model</th>\n",
       "      <th>RMSE</th>\n",
       "      <th>R2</th>\n",
       "    </tr>\n",
       "  </thead>\n",
       "  <tbody>\n",
       "    <tr>\n",
       "      <th>0</th>\n",
       "      <td>Baseline</td>\n",
       "      <td>246177.814689</td>\n",
       "      <td>-4.440892e-16</td>\n",
       "    </tr>\n",
       "    <tr>\n",
       "      <th>1</th>\n",
       "      <td>OLS_1</td>\n",
       "      <td>218945.439987</td>\n",
       "      <td>2.083251e-01</td>\n",
       "    </tr>\n",
       "    <tr>\n",
       "      <th>2</th>\n",
       "      <td>OLS</td>\n",
       "      <td>215313.320063</td>\n",
       "      <td>2.343737e-01</td>\n",
       "    </tr>\n",
       "  </tbody>\n",
       "</table>\n",
       "</div>"
      ],
      "text/plain": [
       "      Model           RMSE            R2\n",
       "0  Baseline  246177.814689 -4.440892e-16\n",
       "1     OLS_1  218945.439987  2.083251e-01\n",
       "2       OLS  215313.320063  2.343737e-01"
      ]
     },
     "execution_count": 64,
     "metadata": {},
     "output_type": "execute_result"
    }
   ],
   "source": [
    "#add to my metrics df\n",
    "metrics_df.loc[2] = ['OLS', rmse, r2]\n",
    "metrics_df"
   ]
  },
  {
   "cell_type": "code",
   "execution_count": 70,
   "id": "2fd8af08-e620-48ec-a33d-bbe91ce6e6bc",
   "metadata": {},
   "outputs": [],
   "source": [
    "# LASSO LARS\n",
    "#make it\n",
    "lars = LassoLars(alpha=1)\n",
    "\n",
    "#fit it\n",
    "lars.fit(X_train_scaled, y_train)\n",
    "\n",
    "#use it\n",
    "pred_lars = lars.predict(X_train_scaled)\n",
    "pred_val_lars = lars.predict(X_validate_scaled)"
   ]
  },
  {
   "cell_type": "code",
   "execution_count": 71,
   "id": "684e82e6-a220-4780-8939-69bd3b324037",
   "metadata": {},
   "outputs": [
    {
     "data": {
      "text/plain": [
       "bed       -120950.253259\n",
       "bath       102335.378645\n",
       "sqft       613846.753587\n",
       "orange      60993.969269\n",
       "ventura     47366.379051\n",
       "dtype: float64"
      ]
     },
     "execution_count": 71,
     "metadata": {},
     "output_type": "execute_result"
    }
   ],
   "source": [
    "# look at the features\n",
    "pd.Series(lars.coef_, index=lars.feature_names_in_)"
   ]
  },
  {
   "cell_type": "code",
   "execution_count": 72,
   "id": "e8389f8b-211e-46ec-9222-ba7af963a331",
   "metadata": {},
   "outputs": [
    {
     "data": {
      "text/plain": [
       "(215241.95182485148, 0.23553779478727366)"
      ]
     },
     "execution_count": 72,
     "metadata": {},
     "output_type": "execute_result"
    }
   ],
   "source": [
    "#train\n",
    "ev.metrics_reg(y_train, pred_lars)"
   ]
  },
  {
   "cell_type": "code",
   "execution_count": 73,
   "id": "1ddf4bea-d419-465b-9aa5-849c500a1c22",
   "metadata": {},
   "outputs": [
    {
     "data": {
      "text/plain": [
       "(215314.00309833675, 0.23436881017194522)"
      ]
     },
     "execution_count": 73,
     "metadata": {},
     "output_type": "execute_result"
    }
   ],
   "source": [
    "#validate\n",
    "rmse, r2 = ev.metrics_reg(y_validate, pred_val_lars)\n",
    "rmse, r2"
   ]
  },
  {
   "cell_type": "code",
   "execution_count": 74,
   "id": "03c14535-38d1-47ed-a4a8-fc89dd1e018a",
   "metadata": {},
   "outputs": [
    {
     "data": {
      "text/html": [
       "<div>\n",
       "<style scoped>\n",
       "    .dataframe tbody tr th:only-of-type {\n",
       "        vertical-align: middle;\n",
       "    }\n",
       "\n",
       "    .dataframe tbody tr th {\n",
       "        vertical-align: top;\n",
       "    }\n",
       "\n",
       "    .dataframe thead th {\n",
       "        text-align: right;\n",
       "    }\n",
       "</style>\n",
       "<table border=\"1\" class=\"dataframe\">\n",
       "  <thead>\n",
       "    <tr style=\"text-align: right;\">\n",
       "      <th></th>\n",
       "      <th>Model</th>\n",
       "      <th>RMSE</th>\n",
       "      <th>R2</th>\n",
       "    </tr>\n",
       "  </thead>\n",
       "  <tbody>\n",
       "    <tr>\n",
       "      <th>0</th>\n",
       "      <td>Baseline</td>\n",
       "      <td>246177.814689</td>\n",
       "      <td>-4.440892e-16</td>\n",
       "    </tr>\n",
       "    <tr>\n",
       "      <th>1</th>\n",
       "      <td>OLS_1</td>\n",
       "      <td>218945.439987</td>\n",
       "      <td>2.083251e-01</td>\n",
       "    </tr>\n",
       "    <tr>\n",
       "      <th>2</th>\n",
       "      <td>OLS</td>\n",
       "      <td>215313.320063</td>\n",
       "      <td>2.343737e-01</td>\n",
       "    </tr>\n",
       "    <tr>\n",
       "      <th>3</th>\n",
       "      <td>LARS</td>\n",
       "      <td>215314.003098</td>\n",
       "      <td>2.343688e-01</td>\n",
       "    </tr>\n",
       "  </tbody>\n",
       "</table>\n",
       "</div>"
      ],
      "text/plain": [
       "      Model           RMSE            R2\n",
       "0  Baseline  246177.814689 -4.440892e-16\n",
       "1     OLS_1  218945.439987  2.083251e-01\n",
       "2       OLS  215313.320063  2.343737e-01\n",
       "3      LARS  215314.003098  2.343688e-01"
      ]
     },
     "execution_count": 74,
     "metadata": {},
     "output_type": "execute_result"
    }
   ],
   "source": [
    "#add to my metrics df\n",
    "metrics_df.loc[3] = ['LARS', rmse, r2]\n",
    "metrics_df"
   ]
  },
  {
   "cell_type": "code",
   "execution_count": 75,
   "id": "0ef55b3a-eab8-49f4-bd44-251db8cdd018",
   "metadata": {},
   "outputs": [],
   "source": [
    "# make the polynomial features to get a new set of features\n",
    "pf = PolynomialFeatures(degree=2)\n",
    "\n",
    "# fit and transform X_train_scaled\n",
    "X_train_degree = pf.fit_transform(X_train_scaled)\n",
    "\n",
    "# transform X_validate_scaled\n",
    "X_validate_degree = pf.transform(X_validate_scaled)\n"
   ]
  },
  {
   "cell_type": "code",
   "execution_count": 76,
   "id": "ade5c4b4-db98-44c7-905b-fa1e7ec3fca2",
   "metadata": {},
   "outputs": [],
   "source": [
    "#make it\n",
    "pr = LinearRegression()\n",
    "\n",
    "#fit it\n",
    "pr.fit(X_train_degree, y_train)\n",
    "\n",
    "#use it\n",
    "pred_pr = pr.predict(X_train_degree)\n",
    "pred_val_pr = pr.predict(X_validate_degree)"
   ]
  },
  {
   "cell_type": "code",
   "execution_count": 77,
   "id": "a5be9601-cfa7-4928-b985-00cc747cbc30",
   "metadata": {},
   "outputs": [
    {
     "data": {
      "text/plain": [
       "(214225.01950241742, 0.24274428824141525)"
      ]
     },
     "execution_count": 77,
     "metadata": {},
     "output_type": "execute_result"
    }
   ],
   "source": [
    "#train\n",
    "ev.metrics_reg(y_train, pred_pr)"
   ]
  },
  {
   "cell_type": "code",
   "execution_count": 78,
   "id": "774e030f-0e3e-45ee-9754-6215cdedb27b",
   "metadata": {},
   "outputs": [
    {
     "data": {
      "text/plain": [
       "(214252.089009925, 0.24190226939577641)"
      ]
     },
     "execution_count": 78,
     "metadata": {},
     "output_type": "execute_result"
    }
   ],
   "source": [
    "#validate\n",
    "rmse, r2 = ev.metrics_reg(y_validate, pred_val_pr)\n",
    "rmse, r2"
   ]
  },
  {
   "cell_type": "code",
   "execution_count": 79,
   "id": "f9f1af3b-05e0-4b01-94c4-da45d9d23477",
   "metadata": {},
   "outputs": [
    {
     "data": {
      "text/html": [
       "<div>\n",
       "<style scoped>\n",
       "    .dataframe tbody tr th:only-of-type {\n",
       "        vertical-align: middle;\n",
       "    }\n",
       "\n",
       "    .dataframe tbody tr th {\n",
       "        vertical-align: top;\n",
       "    }\n",
       "\n",
       "    .dataframe thead th {\n",
       "        text-align: right;\n",
       "    }\n",
       "</style>\n",
       "<table border=\"1\" class=\"dataframe\">\n",
       "  <thead>\n",
       "    <tr style=\"text-align: right;\">\n",
       "      <th></th>\n",
       "      <th>Model</th>\n",
       "      <th>RMSE</th>\n",
       "      <th>R2</th>\n",
       "    </tr>\n",
       "  </thead>\n",
       "  <tbody>\n",
       "    <tr>\n",
       "      <th>0</th>\n",
       "      <td>Baseline</td>\n",
       "      <td>246177.814689</td>\n",
       "      <td>-4.440892e-16</td>\n",
       "    </tr>\n",
       "    <tr>\n",
       "      <th>1</th>\n",
       "      <td>OLS_1</td>\n",
       "      <td>218945.439987</td>\n",
       "      <td>2.083251e-01</td>\n",
       "    </tr>\n",
       "    <tr>\n",
       "      <th>2</th>\n",
       "      <td>OLS</td>\n",
       "      <td>215313.320063</td>\n",
       "      <td>2.343737e-01</td>\n",
       "    </tr>\n",
       "    <tr>\n",
       "      <th>3</th>\n",
       "      <td>LARS</td>\n",
       "      <td>215314.003098</td>\n",
       "      <td>2.343688e-01</td>\n",
       "    </tr>\n",
       "    <tr>\n",
       "      <th>4</th>\n",
       "      <td>POLY_2</td>\n",
       "      <td>214252.089010</td>\n",
       "      <td>2.419023e-01</td>\n",
       "    </tr>\n",
       "  </tbody>\n",
       "</table>\n",
       "</div>"
      ],
      "text/plain": [
       "      Model           RMSE            R2\n",
       "0  Baseline  246177.814689 -4.440892e-16\n",
       "1     OLS_1  218945.439987  2.083251e-01\n",
       "2       OLS  215313.320063  2.343737e-01\n",
       "3      LARS  215314.003098  2.343688e-01\n",
       "4    POLY_2  214252.089010  2.419023e-01"
      ]
     },
     "execution_count": 79,
     "metadata": {},
     "output_type": "execute_result"
    }
   ],
   "source": [
    "#add to my metrics df\n",
    "metrics_df.loc[4] = ['POLY_2', rmse, r2]\n",
    "metrics_df"
   ]
  },
  {
   "cell_type": "code",
   "execution_count": 80,
   "id": "3d820a69-f56f-4273-aacd-0a652faa4f04",
   "metadata": {},
   "outputs": [],
   "source": [
    "#make it\n",
    "glm = TweedieRegressor(power=1, alpha=1)\n",
    "\n",
    "#fit it\n",
    "glm.fit(X_train_scaled, y_train)\n",
    "\n",
    "#use it\n",
    "pred_glm = glm.predict(X_train_scaled)\n",
    "pred_val_glm = glm.predict(X_validate_scaled)"
   ]
  },
  {
   "cell_type": "code",
   "execution_count": 81,
   "id": "5fffe8a6-1b85-48ed-84cb-34008e5db7e6",
   "metadata": {},
   "outputs": [
    {
     "data": {
      "text/plain": [
       "(214867.24314457594, 0.23819713962854205)"
      ]
     },
     "execution_count": 81,
     "metadata": {},
     "output_type": "execute_result"
    }
   ],
   "source": [
    "#train\n",
    "ev.metrics_reg(y_train, pred_glm)"
   ]
  },
  {
   "cell_type": "code",
   "execution_count": 82,
   "id": "55afd069-b5d3-4645-b570-cf2fa4d02a64",
   "metadata": {},
   "outputs": [
    {
     "data": {
      "text/plain": [
       "(214938.59276294743, 0.23703631239853795)"
      ]
     },
     "execution_count": 82,
     "metadata": {},
     "output_type": "execute_result"
    }
   ],
   "source": [
    "#validate\n",
    "rmse, r2 = ev.metrics_reg(y_validate, pred_val_glm)\n",
    "rmse, r2"
   ]
  },
  {
   "cell_type": "code",
   "execution_count": 83,
   "id": "4343ddbd-cb67-4278-bbbf-de473f588e82",
   "metadata": {},
   "outputs": [
    {
     "data": {
      "text/html": [
       "<div>\n",
       "<style scoped>\n",
       "    .dataframe tbody tr th:only-of-type {\n",
       "        vertical-align: middle;\n",
       "    }\n",
       "\n",
       "    .dataframe tbody tr th {\n",
       "        vertical-align: top;\n",
       "    }\n",
       "\n",
       "    .dataframe thead th {\n",
       "        text-align: right;\n",
       "    }\n",
       "</style>\n",
       "<table border=\"1\" class=\"dataframe\">\n",
       "  <thead>\n",
       "    <tr style=\"text-align: right;\">\n",
       "      <th></th>\n",
       "      <th>Model</th>\n",
       "      <th>RMSE</th>\n",
       "      <th>R2</th>\n",
       "    </tr>\n",
       "  </thead>\n",
       "  <tbody>\n",
       "    <tr>\n",
       "      <th>0</th>\n",
       "      <td>Baseline</td>\n",
       "      <td>246177.814689</td>\n",
       "      <td>-4.440892e-16</td>\n",
       "    </tr>\n",
       "    <tr>\n",
       "      <th>1</th>\n",
       "      <td>OLS_1</td>\n",
       "      <td>218945.439987</td>\n",
       "      <td>2.083251e-01</td>\n",
       "    </tr>\n",
       "    <tr>\n",
       "      <th>2</th>\n",
       "      <td>OLS</td>\n",
       "      <td>215313.320063</td>\n",
       "      <td>2.343737e-01</td>\n",
       "    </tr>\n",
       "    <tr>\n",
       "      <th>3</th>\n",
       "      <td>LARS</td>\n",
       "      <td>215314.003098</td>\n",
       "      <td>2.343688e-01</td>\n",
       "    </tr>\n",
       "    <tr>\n",
       "      <th>4</th>\n",
       "      <td>POLY_2</td>\n",
       "      <td>214252.089010</td>\n",
       "      <td>2.419023e-01</td>\n",
       "    </tr>\n",
       "    <tr>\n",
       "      <th>5</th>\n",
       "      <td>GLM</td>\n",
       "      <td>214938.592763</td>\n",
       "      <td>2.370363e-01</td>\n",
       "    </tr>\n",
       "  </tbody>\n",
       "</table>\n",
       "</div>"
      ],
      "text/plain": [
       "      Model           RMSE            R2\n",
       "0  Baseline  246177.814689 -4.440892e-16\n",
       "1     OLS_1  218945.439987  2.083251e-01\n",
       "2       OLS  215313.320063  2.343737e-01\n",
       "3      LARS  215314.003098  2.343688e-01\n",
       "4    POLY_2  214252.089010  2.419023e-01\n",
       "5       GLM  214938.592763  2.370363e-01"
      ]
     },
     "execution_count": 83,
     "metadata": {},
     "output_type": "execute_result"
    }
   ],
   "source": [
    "# add it to metrics_df\n",
    "metrics_df.loc[5] = ['GLM',rmse,r2]\n",
    "metrics_df"
   ]
  },
  {
   "cell_type": "code",
   "execution_count": 99,
   "id": "bea7ea73-df36-497c-9e7d-56043e6a5e0f",
   "metadata": {},
   "outputs": [],
   "source": [
    "# transform X_test_scaled\n",
    "X_test_degree = pf.transform(X_test_scaled)\n"
   ]
  },
  {
   "cell_type": "code",
   "execution_count": 100,
   "id": "09c1f03b-b189-4504-9a89-a3c16c9b96ad",
   "metadata": {},
   "outputs": [],
   "source": [
    "#make it\n",
    "pr = LinearRegression()\n",
    "\n",
    "#fit it\n",
    "pr.fit(X_train_degree, y_train)\n",
    "\n",
    "#use it\n",
    "pred_test_pr = pr.predict(X_test_degree)"
   ]
  },
  {
   "cell_type": "code",
   "execution_count": 101,
   "id": "cbf9b92c-7232-4d49-887c-dec882bea74f",
   "metadata": {},
   "outputs": [
    {
     "data": {
      "text/plain": [
       "(220399.52952540023, 0.23020036052650017)"
      ]
     },
     "execution_count": 101,
     "metadata": {},
     "output_type": "execute_result"
    }
   ],
   "source": [
    "#validate\n",
    "rmse, r2 = ev.metrics_reg(y_test, pred_test_pr)\n",
    "rmse, r2"
   ]
  },
  {
   "cell_type": "code",
   "execution_count": 102,
   "id": "4b24f3a7-53ce-45bb-8a44-31a897f29c76",
   "metadata": {},
   "outputs": [
    {
     "data": {
      "text/html": [
       "<div>\n",
       "<style scoped>\n",
       "    .dataframe tbody tr th:only-of-type {\n",
       "        vertical-align: middle;\n",
       "    }\n",
       "\n",
       "    .dataframe tbody tr th {\n",
       "        vertical-align: top;\n",
       "    }\n",
       "\n",
       "    .dataframe thead th {\n",
       "        text-align: right;\n",
       "    }\n",
       "</style>\n",
       "<table border=\"1\" class=\"dataframe\">\n",
       "  <thead>\n",
       "    <tr style=\"text-align: right;\">\n",
       "      <th></th>\n",
       "      <th>Model</th>\n",
       "      <th>RMSE</th>\n",
       "      <th>R2</th>\n",
       "    </tr>\n",
       "  </thead>\n",
       "  <tbody>\n",
       "    <tr>\n",
       "      <th>0</th>\n",
       "      <td>Baseline</td>\n",
       "      <td>246177.814689</td>\n",
       "      <td>-4.440892e-16</td>\n",
       "    </tr>\n",
       "    <tr>\n",
       "      <th>1</th>\n",
       "      <td>OLS_1</td>\n",
       "      <td>218945.439987</td>\n",
       "      <td>2.083251e-01</td>\n",
       "    </tr>\n",
       "    <tr>\n",
       "      <th>2</th>\n",
       "      <td>OLS</td>\n",
       "      <td>215313.320063</td>\n",
       "      <td>2.343737e-01</td>\n",
       "    </tr>\n",
       "    <tr>\n",
       "      <th>3</th>\n",
       "      <td>LARS</td>\n",
       "      <td>215314.003098</td>\n",
       "      <td>2.343688e-01</td>\n",
       "    </tr>\n",
       "    <tr>\n",
       "      <th>4</th>\n",
       "      <td>POLY_2</td>\n",
       "      <td>214252.089010</td>\n",
       "      <td>2.419023e-01</td>\n",
       "    </tr>\n",
       "    <tr>\n",
       "      <th>5</th>\n",
       "      <td>POLY_2_TEST</td>\n",
       "      <td>220399.529525</td>\n",
       "      <td>2.302004e-01</td>\n",
       "    </tr>\n",
       "  </tbody>\n",
       "</table>\n",
       "</div>"
      ],
      "text/plain": [
       "         Model           RMSE            R2\n",
       "0     Baseline  246177.814689 -4.440892e-16\n",
       "1        OLS_1  218945.439987  2.083251e-01\n",
       "2          OLS  215313.320063  2.343737e-01\n",
       "3         LARS  215314.003098  2.343688e-01\n",
       "4       POLY_2  214252.089010  2.419023e-01\n",
       "5  POLY_2_TEST  220399.529525  2.302004e-01"
      ]
     },
     "execution_count": 102,
     "metadata": {},
     "output_type": "execute_result"
    }
   ],
   "source": [
    "# add it to metrics_df\n",
    "metrics_df.loc[5] = ['POLY_2_TEST',rmse,r2]\n",
    "metrics_df"
   ]
  },
  {
   "cell_type": "markdown",
   "id": "f40ca759-3324-42f8-93bb-bd7682ce2989",
   "metadata": {},
   "source": [
    "<div class=\"alert alert-block alert-info\"> \n",
    "    \n",
    "# Evaluate\n",
    "    \n",
    "Selecting POLY_2 as the best model to use based on performance for the validate set.\n",
    "    \n",
    "It did not perform very well on the test data, but, it did beat baseline RMSE and R2!"
   ]
  },
  {
   "cell_type": "markdown",
   "id": "0f870b2d-fe0e-48f4-a1d7-83f25347a897",
   "metadata": {
    "tags": []
   },
   "source": [
    "### Regression Metrics\n",
    "\n",
    "#### Vocabulary\n",
    "\n",
    "Residual: error (change in actual and predicted) <br>\n",
    "SSE: sum of squared error<br>\n",
    "MSE: mean squared error<br>\n",
    "RMSE: root mean squared error<br>"
   ]
  },
  {
   "cell_type": "markdown",
   "id": "13d493a7-8293-46eb-b3df-ceedef03b0f4",
   "metadata": {},
   "source": [
    "### Residual Error"
   ]
  },
  {
   "cell_type": "code",
   "execution_count": 103,
   "id": "03e949f5-d8ae-4085-bbf9-f5ac454e146e",
   "metadata": {},
   "outputs": [
    {
     "data": {
      "text/html": [
       "<div>\n",
       "<style scoped>\n",
       "    .dataframe tbody tr th:only-of-type {\n",
       "        vertical-align: middle;\n",
       "    }\n",
       "\n",
       "    .dataframe tbody tr th {\n",
       "        vertical-align: top;\n",
       "    }\n",
       "\n",
       "    .dataframe thead th {\n",
       "        text-align: right;\n",
       "    }\n",
       "</style>\n",
       "<table border=\"1\" class=\"dataframe\">\n",
       "  <thead>\n",
       "    <tr style=\"text-align: right;\">\n",
       "      <th></th>\n",
       "      <th>bed</th>\n",
       "      <th>bath</th>\n",
       "      <th>sqft</th>\n",
       "      <th>orange</th>\n",
       "      <th>ventura</th>\n",
       "    </tr>\n",
       "  </thead>\n",
       "  <tbody>\n",
       "    <tr>\n",
       "      <th>27950</th>\n",
       "      <td>4</td>\n",
       "      <td>4.0</td>\n",
       "      <td>3359.0</td>\n",
       "      <td>1</td>\n",
       "      <td>0</td>\n",
       "    </tr>\n",
       "    <tr>\n",
       "      <th>26677</th>\n",
       "      <td>3</td>\n",
       "      <td>2.0</td>\n",
       "      <td>1096.0</td>\n",
       "      <td>0</td>\n",
       "      <td>0</td>\n",
       "    </tr>\n",
       "    <tr>\n",
       "      <th>41434</th>\n",
       "      <td>4</td>\n",
       "      <td>2.0</td>\n",
       "      <td>1506.0</td>\n",
       "      <td>0</td>\n",
       "      <td>0</td>\n",
       "    </tr>\n",
       "    <tr>\n",
       "      <th>9551</th>\n",
       "      <td>4</td>\n",
       "      <td>2.5</td>\n",
       "      <td>1943.0</td>\n",
       "      <td>0</td>\n",
       "      <td>1</td>\n",
       "    </tr>\n",
       "    <tr>\n",
       "      <th>8729</th>\n",
       "      <td>4</td>\n",
       "      <td>3.0</td>\n",
       "      <td>2341.0</td>\n",
       "      <td>0</td>\n",
       "      <td>0</td>\n",
       "    </tr>\n",
       "  </tbody>\n",
       "</table>\n",
       "</div>"
      ],
      "text/plain": [
       "       bed  bath    sqft  orange  ventura\n",
       "27950    4   4.0  3359.0       1        0\n",
       "26677    3   2.0  1096.0       0        0\n",
       "41434    4   2.0  1506.0       0        0\n",
       "9551     4   2.5  1943.0       0        1\n",
       "8729     4   3.0  2341.0       0        0"
      ]
     },
     "execution_count": 103,
     "metadata": {},
     "output_type": "execute_result"
    }
   ],
   "source": [
    "X_train.head()"
   ]
  },
  {
   "cell_type": "code",
   "execution_count": 105,
   "id": "8a40c17b-3409-4fbc-aead-2347c6b7b4b0",
   "metadata": {},
   "outputs": [
    {
     "data": {
      "text/html": [
       "<div>\n",
       "<style scoped>\n",
       "    .dataframe tbody tr th:only-of-type {\n",
       "        vertical-align: middle;\n",
       "    }\n",
       "\n",
       "    .dataframe tbody tr th {\n",
       "        vertical-align: top;\n",
       "    }\n",
       "\n",
       "    .dataframe thead th {\n",
       "        text-align: right;\n",
       "    }\n",
       "</style>\n",
       "<table border=\"1\" class=\"dataframe\">\n",
       "  <thead>\n",
       "    <tr style=\"text-align: right;\">\n",
       "      <th></th>\n",
       "      <th>bed</th>\n",
       "      <th>bath</th>\n",
       "      <th>sqft</th>\n",
       "      <th>orange</th>\n",
       "      <th>ventura</th>\n",
       "      <th>baseline_residual</th>\n",
       "    </tr>\n",
       "  </thead>\n",
       "  <tbody>\n",
       "    <tr>\n",
       "      <th>27950</th>\n",
       "      <td>4</td>\n",
       "      <td>4.0</td>\n",
       "      <td>3359.0</td>\n",
       "      <td>1</td>\n",
       "      <td>0</td>\n",
       "      <td>-103570.94</td>\n",
       "    </tr>\n",
       "    <tr>\n",
       "      <th>26677</th>\n",
       "      <td>3</td>\n",
       "      <td>2.0</td>\n",
       "      <td>1096.0</td>\n",
       "      <td>0</td>\n",
       "      <td>0</td>\n",
       "      <td>-5801.94</td>\n",
       "    </tr>\n",
       "    <tr>\n",
       "      <th>41434</th>\n",
       "      <td>4</td>\n",
       "      <td>2.0</td>\n",
       "      <td>1506.0</td>\n",
       "      <td>0</td>\n",
       "      <td>0</td>\n",
       "      <td>143899.06</td>\n",
       "    </tr>\n",
       "    <tr>\n",
       "      <th>9551</th>\n",
       "      <td>4</td>\n",
       "      <td>2.5</td>\n",
       "      <td>1943.0</td>\n",
       "      <td>0</td>\n",
       "      <td>1</td>\n",
       "      <td>85639.06</td>\n",
       "    </tr>\n",
       "    <tr>\n",
       "      <th>8729</th>\n",
       "      <td>4</td>\n",
       "      <td>3.0</td>\n",
       "      <td>2341.0</td>\n",
       "      <td>0</td>\n",
       "      <td>0</td>\n",
       "      <td>-91330.94</td>\n",
       "    </tr>\n",
       "  </tbody>\n",
       "</table>\n",
       "</div>"
      ],
      "text/plain": [
       "       bed  bath    sqft  orange  ventura  baseline_residual\n",
       "27950    4   4.0  3359.0       1        0         -103570.94\n",
       "26677    3   2.0  1096.0       0        0           -5801.94\n",
       "41434    4   2.0  1506.0       0        0          143899.06\n",
       "9551     4   2.5  1943.0       0        1           85639.06\n",
       "8729     4   3.0  2341.0       0        0          -91330.94"
      ]
     },
     "execution_count": 105,
     "metadata": {},
     "output_type": "execute_result"
    }
   ],
   "source": [
    "# residual = actual - predicted\n",
    "X_train['baseline_residual'] = y_train - baseline\n",
    "X_train.head()"
   ]
  },
  {
   "cell_type": "code",
   "execution_count": 106,
   "id": "22467ff5-dc0b-4650-8dd7-e76659d4f978",
   "metadata": {},
   "outputs": [
    {
     "data": {
      "text/html": [
       "<div>\n",
       "<style scoped>\n",
       "    .dataframe tbody tr th:only-of-type {\n",
       "        vertical-align: middle;\n",
       "    }\n",
       "\n",
       "    .dataframe tbody tr th {\n",
       "        vertical-align: top;\n",
       "    }\n",
       "\n",
       "    .dataframe thead th {\n",
       "        text-align: right;\n",
       "    }\n",
       "</style>\n",
       "<table border=\"1\" class=\"dataframe\">\n",
       "  <thead>\n",
       "    <tr style=\"text-align: right;\">\n",
       "      <th></th>\n",
       "      <th>bed</th>\n",
       "      <th>bath</th>\n",
       "      <th>sqft</th>\n",
       "      <th>orange</th>\n",
       "      <th>ventura</th>\n",
       "      <th>baseline_residual</th>\n",
       "      <th>residuals</th>\n",
       "    </tr>\n",
       "  </thead>\n",
       "  <tbody>\n",
       "    <tr>\n",
       "      <th>27950</th>\n",
       "      <td>4</td>\n",
       "      <td>4.0</td>\n",
       "      <td>3359.0</td>\n",
       "      <td>1</td>\n",
       "      <td>0</td>\n",
       "      <td>-103570.94</td>\n",
       "      <td>-401623.086839</td>\n",
       "    </tr>\n",
       "    <tr>\n",
       "      <th>26677</th>\n",
       "      <td>3</td>\n",
       "      <td>2.0</td>\n",
       "      <td>1096.0</td>\n",
       "      <td>0</td>\n",
       "      <td>0</td>\n",
       "      <td>-5801.94</td>\n",
       "      <td>106701.471741</td>\n",
       "    </tr>\n",
       "    <tr>\n",
       "      <th>41434</th>\n",
       "      <td>4</td>\n",
       "      <td>2.0</td>\n",
       "      <td>1506.0</td>\n",
       "      <td>0</td>\n",
       "      <td>0</td>\n",
       "      <td>143899.06</td>\n",
       "      <td>182019.891530</td>\n",
       "    </tr>\n",
       "    <tr>\n",
       "      <th>9551</th>\n",
       "      <td>4</td>\n",
       "      <td>2.5</td>\n",
       "      <td>1943.0</td>\n",
       "      <td>0</td>\n",
       "      <td>1</td>\n",
       "      <td>85639.06</td>\n",
       "      <td>44478.946281</td>\n",
       "    </tr>\n",
       "    <tr>\n",
       "      <th>8729</th>\n",
       "      <td>4</td>\n",
       "      <td>3.0</td>\n",
       "      <td>2341.0</td>\n",
       "      <td>0</td>\n",
       "      <td>0</td>\n",
       "      <td>-91330.94</td>\n",
       "      <td>-204696.582802</td>\n",
       "    </tr>\n",
       "  </tbody>\n",
       "</table>\n",
       "</div>"
      ],
      "text/plain": [
       "       bed  bath    sqft  orange  ventura  baseline_residual      residuals\n",
       "27950    4   4.0  3359.0       1        0         -103570.94 -401623.086839\n",
       "26677    3   2.0  1096.0       0        0           -5801.94  106701.471741\n",
       "41434    4   2.0  1506.0       0        0          143899.06  182019.891530\n",
       "9551     4   2.5  1943.0       0        1           85639.06   44478.946281\n",
       "8729     4   3.0  2341.0       0        0          -91330.94 -204696.582802"
      ]
     },
     "execution_count": 106,
     "metadata": {},
     "output_type": "execute_result"
    }
   ],
   "source": [
    "# residual = actual - predicted\n",
    "X_train['residuals'] = y_train - pred_lr1 #yhat\n",
    "X_train.head()"
   ]
  },
  {
   "cell_type": "code",
   "execution_count": 108,
   "id": "5d1c9009-7147-40d6-8c77-e838fffb50e3",
   "metadata": {},
   "outputs": [
    {
     "data": {
      "image/png": "[encoded data removed]",
      "text/plain": [
       "<Figure size 640x480 with 1 Axes>"
      ]
     },
     "metadata": {},
     "output_type": "display_data"
    }
   ],
   "source": [
    "# plotting the residuals\n",
    "sns.scatterplot(data=X_train, y='residuals', x=y_train.assessed_worth)\n",
    "plt.plot(y_train, y_train, label='_nolegend_', color='grey')\n",
    "plt.title('How do my residuals interact with my assessed worth')\n",
    "plt.show()"
   ]
  },
  {
   "cell_type": "markdown",
   "id": "e016f682-4388-4d6a-b04d-e93eb041beae",
   "metadata": {},
   "source": [
    "### SSE"
   ]
  },
  {
   "cell_type": "code",
   "execution_count": 109,
   "id": "5a3fc17a-5d1d-41e8-a7f9-99c15f28c9a6",
   "metadata": {},
   "outputs": [
    {
     "name": "stdout",
     "output_type": "stream",
     "text": [
      "SSE baseline = 1665263424882226.0\n",
      "SSE = 1312037479716434.0\n"
     ]
    }
   ],
   "source": [
    "# add the residuals together\n",
    "SSE_baseline = np.absolute(X_train['baseline_residual'] ** 2).sum()\n",
    "SSE = (X_train.residuals **2).sum()\n",
    "print(\"SSE baseline =\", \"{:.1f}\".format(SSE_baseline))\n",
    "print('SSE =', \"{:.1f}\".format(SSE))"
   ]
  },
  {
   "cell_type": "markdown",
   "id": "e83379ce-7b5b-48b4-a8bd-42ab5810395f",
   "metadata": {},
   "source": [
    "### MSE"
   ]
  },
  {
   "cell_type": "code",
   "execution_count": 110,
   "id": "0d4b0863-3b6c-4e82-9ad6-a69ff79f2c9f",
   "metadata": {},
   "outputs": [
    {
     "data": {
      "text/plain": [
       "47748652730.05437"
      ]
     },
     "execution_count": 110,
     "metadata": {},
     "output_type": "execute_result"
    }
   ],
   "source": [
    "from sklearn.metrics import mean_squared_error\n",
    "# shorthand\n",
    "MSE = mean_squared_error(y_train, pred_lr1)\n",
    "MSE"
   ]
  },
  {
   "cell_type": "code",
   "execution_count": 111,
   "id": "b90e85bf-37c9-44ef-a175-6d3fc3c18be6",
   "metadata": {},
   "outputs": [
    {
     "data": {
      "text/plain": [
       "1312037479716434.0"
      ]
     },
     "execution_count": 111,
     "metadata": {},
     "output_type": "execute_result"
    }
   ],
   "source": [
    "# shorthand\n",
    "# dollars squared\n",
    "SSE = MSE * len(X_train)\n",
    "SSE"
   ]
  },
  {
   "cell_type": "markdown",
   "id": "cd61d56b-3bb9-4c90-8c1f-32449db5f926",
   "metadata": {},
   "source": [
    "### RMSE"
   ]
  },
  {
   "cell_type": "code",
   "execution_count": 112,
   "id": "892c3c31-1ae9-4e2a-871d-886997505fea",
   "metadata": {},
   "outputs": [
    {
     "data": {
      "text/plain": [
       "218514.65"
      ]
     },
     "execution_count": 112,
     "metadata": {},
     "output_type": "execute_result"
    }
   ],
   "source": [
    "# shorthand\n",
    "# How much error we have in one housing price!\n",
    "RMSE = MSE ** .5\n",
    "RMSE.round(2)"
   ]
  },
  {
   "cell_type": "code",
   "execution_count": 123,
   "id": "070137cf-d87f-4fa4-bed3-898aecf0917f",
   "metadata": {},
   "outputs": [
    {
     "data": {
      "text/plain": [
       "60603516445.23714"
      ]
     },
     "execution_count": 123,
     "metadata": {},
     "output_type": "execute_result"
    }
   ],
   "source": [
    "# testing against baseline\n",
    "MSE_baseline = mean_squared_error(y_train, baseline_array)\n",
    "MSE_baseline"
   ]
  },
  {
   "cell_type": "code",
   "execution_count": 124,
   "id": "3652eb03-53ec-467a-ab5a-fd542e05a64d",
   "metadata": {},
   "outputs": [
    {
     "data": {
      "text/plain": [
       "1665263424882226.0"
      ]
     },
     "execution_count": 124,
     "metadata": {},
     "output_type": "execute_result"
    }
   ],
   "source": [
    "# testing against baseline\n",
    "SSE_baseline = MSE_baseline * len(X_train)\n",
    "SSE_baseline"
   ]
  },
  {
   "cell_type": "code",
   "execution_count": 125,
   "id": "8cb86bd6-2cc2-454d-be0c-5cb5a4f11dec",
   "metadata": {},
   "outputs": [
    {
     "data": {
      "text/plain": [
       "246177.81"
      ]
     },
     "execution_count": 125,
     "metadata": {},
     "output_type": "execute_result"
    }
   ],
   "source": [
    "# testing against baseline\n",
    "RMSE_baseline = MSE_baseline ** .5\n",
    "RMSE_baseline.round(2)"
   ]
  },
  {
   "cell_type": "markdown",
   "id": "6c853f18-9dcf-41e6-a317-b090dad60491",
   "metadata": {
    "tags": []
   },
   "source": [
    "### Variance"
   ]
  },
  {
   "cell_type": "code",
   "execution_count": 126,
   "id": "98f4b0c5-50db-4dde-85a9-3b8dd3a300ed",
   "metadata": {},
   "outputs": [
    {
     "data": {
      "text/html": [
       "<div>\n",
       "<style scoped>\n",
       "    .dataframe tbody tr th:only-of-type {\n",
       "        vertical-align: middle;\n",
       "    }\n",
       "\n",
       "    .dataframe tbody tr th {\n",
       "        vertical-align: top;\n",
       "    }\n",
       "\n",
       "    .dataframe thead th {\n",
       "        text-align: right;\n",
       "    }\n",
       "</style>\n",
       "<table border=\"1\" class=\"dataframe\">\n",
       "  <thead>\n",
       "    <tr style=\"text-align: right;\">\n",
       "      <th></th>\n",
       "      <th>Model</th>\n",
       "      <th>RMSE</th>\n",
       "      <th>R2</th>\n",
       "    </tr>\n",
       "  </thead>\n",
       "  <tbody>\n",
       "    <tr>\n",
       "      <th>0</th>\n",
       "      <td>Baseline</td>\n",
       "      <td>246177.814689</td>\n",
       "      <td>-4.440892e-16</td>\n",
       "    </tr>\n",
       "    <tr>\n",
       "      <th>1</th>\n",
       "      <td>OLS_1</td>\n",
       "      <td>218945.439987</td>\n",
       "      <td>2.083251e-01</td>\n",
       "    </tr>\n",
       "    <tr>\n",
       "      <th>2</th>\n",
       "      <td>OLS</td>\n",
       "      <td>215313.320063</td>\n",
       "      <td>2.343737e-01</td>\n",
       "    </tr>\n",
       "    <tr>\n",
       "      <th>3</th>\n",
       "      <td>LARS</td>\n",
       "      <td>215314.003098</td>\n",
       "      <td>2.343688e-01</td>\n",
       "    </tr>\n",
       "    <tr>\n",
       "      <th>4</th>\n",
       "      <td>POLY_2</td>\n",
       "      <td>214252.089010</td>\n",
       "      <td>2.419023e-01</td>\n",
       "    </tr>\n",
       "    <tr>\n",
       "      <th>5</th>\n",
       "      <td>POLY_2_TEST</td>\n",
       "      <td>220399.529525</td>\n",
       "      <td>2.302004e-01</td>\n",
       "    </tr>\n",
       "  </tbody>\n",
       "</table>\n",
       "</div>"
      ],
      "text/plain": [
       "         Model           RMSE            R2\n",
       "0     Baseline  246177.814689 -4.440892e-16\n",
       "1        OLS_1  218945.439987  2.083251e-01\n",
       "2          OLS  215313.320063  2.343737e-01\n",
       "3         LARS  215314.003098  2.343688e-01\n",
       "4       POLY_2  214252.089010  2.419023e-01\n",
       "5  POLY_2_TEST  220399.529525  2.302004e-01"
      ]
     },
     "execution_count": 126,
     "metadata": {},
     "output_type": "execute_result"
    }
   ],
   "source": [
    "metrics_df"
   ]
  },
  {
   "cell_type": "markdown",
   "id": "90f8d0db-ea3c-4ef0-8110-c2724fdf7532",
   "metadata": {},
   "source": [
    "### R2"
   ]
  },
  {
   "cell_type": "code",
   "execution_count": 127,
   "id": "e0610bbe-afcf-4d3e-86ce-28a05f51a7fb",
   "metadata": {},
   "outputs": [
    {
     "data": {
      "text/plain": [
       "0.2121"
      ]
     },
     "execution_count": 127,
     "metadata": {},
     "output_type": "execute_result"
    }
   ],
   "source": [
    "# use r2_score\n",
    "round(r2_score(y_train, pred_lr1),4)"
   ]
  },
  {
   "cell_type": "markdown",
   "id": "50ece695-348c-4f14-bc39-d13670648813",
   "metadata": {},
   "source": [
    "### Is my model better than the baseline model?"
   ]
  },
  {
   "cell_type": "markdown",
   "id": "274b069f-bb8a-478e-9d50-2ff4abfbf992",
   "metadata": {},
   "source": [
    "My model is better than baseline, however, it's not that great.\n",
    "\n",
    "better_than_baseline(y, yhat): returns true if your model performs better than the baseline, otherwise false"
   ]
  },
  {
   "cell_type": "markdown",
   "id": "ce24f119-83de-4cef-9e4d-a0b83ba4b1fd",
   "metadata": {},
   "source": [
    "### Python Code"
   ]
  },
  {
   "cell_type": "code",
   "execution_count": 128,
   "id": "975e7d99-61ae-436f-9d19-5ebb463a39b1",
   "metadata": {
    "tags": []
   },
   "outputs": [
    {
     "data": {
      "text/plain": [
       "True"
      ]
     },
     "execution_count": 128,
     "metadata": {},
     "output_type": "execute_result"
    }
   ],
   "source": [
    "ev.better_than_baseline(SSE, SSE_baseline)"
   ]
  },
  {
   "cell_type": "markdown",
   "id": "bde13d56-6b77-482c-965c-8ad03dd8624e",
   "metadata": {},
   "source": [
    "<div class=\"alert alert-block alert-info\"> \n",
    "\n",
    "# Conclusion:\n",
    "    \n",
    "* Beat Baseline - barely!\n",
    "    * Used the Polynomial Regression (with 3 degrees)\n",
    "* Sent in the most basic features that ended up all being correlated therefore producing a low R2 score and resulting in fairly high variance.\n",
    "    \n",
    "* Next steps\n",
    "    \n",
    "## Feature Engineering:\n",
    "    \n",
    "1. Sqft associated Bath and Bed size\n",
    "2. bed + bath = room_count <br>\n",
    "3. total_sqft -200 * bedroooms - 40 * bathrooms = living_area \"estimating sqft per room based or total_sqft\" \n",
    "4. Year binned into likely styles of the home .. mid-century, ranch, etc.\n",
    "5. Continous to Categorical - Quantization to Discretization (worth of house could be binned to low wealth, medium wealth, and high wealth.)\n"
   ]
  }
 ],
 "metadata": {
  "kernelspec": {
   "display_name": "Python 3 (ipykernel)",
   "language": "python",
   "name": "python3"
  },
  "language_info": {
   "codemirror_mode": {
    "name": "ipython",
    "version": 3
   },
   "file_extension": ".py",
   "mimetype": "text/x-python",
   "name": "python",
   "nbconvert_exporter": "python",
   "pygments_lexer": "ipython3",
   "version": "3.9.13"
  }
 },
 "nbformat": 4,
 "nbformat_minor": 5
}
